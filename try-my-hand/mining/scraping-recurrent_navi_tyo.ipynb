{
 "cells": [
  {
   "cell_type": "markdown",
   "id": "0c7c2472-5283-467c-b327-a61b2c6771c5",
   "metadata": {},
   "source": [
    "# Scraping: Web to Excel(東京リカレントナビ)"
   ]
  },
  {
   "cell_type": "markdown",
   "id": "9295548c-1e4f-4259-90bd-1e07f3d40f3b",
   "metadata": {},
   "source": [
    "<div class=\"alert alert-block alert-danger\">\n",
    "<b>Notice:</b> Webサイトからスクレイピングで情報を収集するため <b>過度な呼び出しは厳禁</b>\n",
    "</div>"
   ]
  },
  {
   "cell_type": "markdown",
   "id": "5280a70e-3611-4f4b-9491-017542567baa",
   "metadata": {},
   "source": [
    "- https://www.recurrent-navi.metro.tokyo.lg.jp/organizer_tag/tokyoto"
   ]
  },
  {
   "cell_type": "markdown",
   "id": "e6e23863-3706-4d51-96c1-ea44c6c560d6",
   "metadata": {},
   "source": [
    "## 0. 事前準備"
   ]
  },
  {
   "cell_type": "markdown",
   "id": "600deaf3-e7a7-4efd-bb27-3e139dd1428e",
   "metadata": {},
   "source": [
    "### 共通処理/定数定義"
   ]
  },
  {
   "cell_type": "code",
   "execution_count": null,
   "id": "cb2a2fbe-96dc-424c-bf38-1adee10c94a6",
   "metadata": {},
   "outputs": [],
   "source": [
    "from mylib.MyBanner import MyBanner\n",
    "\n",
    "SLEEP_SEC = 0.500\n",
    "\n",
    "#BASE_URL = \"https://www.recurrent-navi.metro.tokyo.lg.jp/organizer_tag/tokyoto/page/%i\"\n",
    "BASE_URL = \"https://www.recurrent-navi.metro.tokyo.lg.jp/course/all/page/%i?s&post_type=course\"\n",
    "\n",
    "PAGE_NUM = 10\n",
    "EXCEL_FILE = '../data/recurrent_navi_tyo.xlsx'\n",
    "EXCEL_SHEET = 'my_sheet'"
   ]
  },
  {
   "cell_type": "markdown",
   "id": "128ff995-ecdc-463a-bb43-858b72dd2912",
   "metadata": {},
   "source": [
    "### パッケージインストール"
   ]
  },
  {
   "cell_type": "code",
   "execution_count": null,
   "id": "3564d935-c091-45ac-b5bf-395de7bdf2c1",
   "metadata": {},
   "outputs": [],
   "source": [
    "MyBanner.start()\n",
    "\n",
    "!python -V\n",
    "!pip install pandas\n",
    "!pip install openpyxl\n",
    "\n",
    "MyBanner.finish()"
   ]
  },
  {
   "cell_type": "markdown",
   "id": "8627548d-d547-45cb-924b-26e6f89edfca",
   "metadata": {},
   "source": [
    "### import"
   ]
  },
  {
   "cell_type": "code",
   "execution_count": null,
   "id": "0b05e842-ed57-4526-b287-b6366a2cce63",
   "metadata": {},
   "outputs": [],
   "source": [
    "MyBanner.start()\n",
    "\n",
    "import requests\n",
    "from bs4 import BeautifulSoup\n",
    "import time\n",
    "import pandas as pd\n",
    "\n",
    "MyBanner.finish()"
   ]
  },
  {
   "cell_type": "markdown",
   "id": "17625e50-1a65-44c2-80b6-1a13436525c6",
   "metadata": {},
   "source": [
    "## 1. データ収集 & ファイル保存"
   ]
  },
  {
   "cell_type": "markdown",
   "id": "d5fec695-a8ed-4992-beec-7c176cca9875",
   "metadata": {},
   "source": [
    "### Crawling & Scraping"
   ]
  },
  {
   "cell_type": "code",
   "execution_count": null,
   "id": "402715e2-5b65-4b3e-af51-b68a63142f45",
   "metadata": {},
   "outputs": [],
   "source": [
    "MyBanner.start()\n",
    "\n",
    "def crawl_article_list(base_url, max_page):\n",
    "    rows = []\n",
    "    for idx in range(1, (PAGE_NUM + 1)):\n",
    "        # create a url\n",
    "        list_url = base_url % idx\n",
    "        # request a document with http\n",
    "        response = requests.get(list_url, headers={'User-Agent': 'hoge'})\n",
    "        print(f\"{response=}: {list_url=}\")\n",
    "        soup = BeautifulSoup(response.text, \"html.parser\")\n",
    "        articles = soup.select(\"article.p-course-card\")\n",
    "        for article in articles:\n",
    "            # print(f\"//////////////////////////////////////////////////\\n{article=}\")\n",
    "            title = article.find('h2')\n",
    "            if title is None:\n",
    "                title = article.find('h3')\n",
    "                if title is None:\n",
    "                    break\n",
    "            title = title.text.strip()\n",
    "            sdate = article.find('time')\n",
    "            if not sdate is None:\n",
    "                sdate = sdate.attrs['datetime']\n",
    "            url = article.find('a').attrs['href']\n",
    "            sid = url.split(\"/\")[-1]\n",
    "            categories = article.select('div.p-course-type > span')\n",
    "            category = []\n",
    "            for item in categories:\n",
    "                category.append(item.text.strip())\n",
    "            category = ','.join(category)\n",
    "            summary = article.select('div.p-course-card__desc > p')[0].text.strip()\n",
    "            cols = {\n",
    "                \"id\": sid,\n",
    "                \"category\": category,\n",
    "                \"date\": sdate,\n",
    "                \"title\": title,\n",
    "                \"url\": url,\n",
    "                \"summary\": summary,\n",
    "            }            \n",
    "            items = article.select('div.p-course-card__data > dl')\n",
    "            for item in items:\n",
    "                cols[item.find('dt').text.strip()] = item.find('dd').text.strip()\n",
    "            rows.append(cols)\n",
    "        time.sleep(SLEEP_SEC)\n",
    "    return rows\n",
    "\n",
    "rows = crawl_article_list(BASE_URL, PAGE_NUM)\n",
    "crawl_df = pd.DataFrame(rows)\n",
    "crawl_df.set_index(\"id\", inplace=True)\n",
    "\n",
    "print(f\"{len(rows)=}\")\n",
    "crawl_df.info()\n",
    "\n",
    "MyBanner.finish()"
   ]
  },
  {
   "cell_type": "markdown",
   "id": "5a8138b0-67aa-4a9e-b633-15ed55aef0f4",
   "metadata": {},
   "source": [
    "### Cleansing"
   ]
  },
  {
   "cell_type": "code",
   "execution_count": null,
   "id": "5c133c8e-70e7-46c5-87ce-b753170f0364",
   "metadata": {},
   "outputs": [],
   "source": [
    "MyBanner.start()\n",
    "\n",
    "def fill_summary_text(df):\n",
    "    for index, row in df.iterrows():\n",
    "        lastchr = row['summary'][-1]\n",
    "        if lastchr == \"…\":\n",
    "            print(f\"{lastchr=}\")\n",
    "            url = row['url']\n",
    "            response = requests.get(url, headers={'User-Agent': 'hoge'})\n",
    "            print(f\"{response=}: {url=}\")\n",
    "            soup = BeautifulSoup(response.text, \"html.parser\")\n",
    "            summary = soup.select(\"div.p-course-single-card__text > p\")[0].text.strip()\n",
    "            print(f\"{summary=}\")\n",
    "            df.at[index, 'summary'] = summary\n",
    "            time.sleep(SLEEP_SEC)\n",
    "\n",
    "    return df\n",
    "\n",
    "creaned_df = fill_summary_text(crawl_df)\n",
    "creaned_df.info()\n",
    "\n",
    "creaned_df.to_excel(EXCEL_FILE, sheet_name=EXCEL_SHEET)\n",
    "print(f\"{EXCEL_FILE=}\")\n",
    "\n",
    "MyBanner.finish()"
   ]
  }
 ],
 "metadata": {
  "kernelspec": {
   "display_name": "Python 3 (ipykernel)",
   "language": "python",
   "name": "python3"
  },
  "language_info": {
   "codemirror_mode": {
    "name": "ipython",
    "version": 3
   },
   "file_extension": ".py",
   "mimetype": "text/x-python",
   "name": "python",
   "nbconvert_exporter": "python",
   "pygments_lexer": "ipython3",
   "version": "3.12.3"
  }
 },
 "nbformat": 4,
 "nbformat_minor": 5
}
