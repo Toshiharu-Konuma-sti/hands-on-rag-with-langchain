{
 "cells": [
  {
   "cell_type": "markdown",
   "id": "e808f345-d756-4ffa-aaf4-9e1041f61abb",
   "metadata": {},
   "source": [
    "# Scraping: Web to VDB (YJ Topics)"
   ]
  },
  {
   "cell_type": "markdown",
   "id": "449e0ebe-21f1-4fab-9a8b-5665c3b1bc84",
   "metadata": {},
   "source": [
    "<div class=\"alert alert-block alert-danger\">\n",
    "<b>Notice:</b> Webサイトからスクレイピングで情報を収集するため <b>過度な呼び出しは厳禁</b>\n",
    "</div>"
   ]
  },
  {
   "cell_type": "markdown",
   "id": "0d52db6f-1dac-456f-99f8-8aef4a42f230",
   "metadata": {},
   "source": [
    "## 0. 事前準備"
   ]
  },
  {
   "cell_type": "markdown",
   "id": "b04da4ca-5a14-48fb-8a37-6813acf011d0",
   "metadata": {},
   "source": [
    "### 共通処理/定数定義"
   ]
  },
  {
   "cell_type": "code",
   "execution_count": null,
   "id": "71488ef0-886d-418f-8422-9f50061c79d6",
   "metadata": {},
   "outputs": [],
   "source": [
    "import myconstant\n",
    "from mylib.MyBanner import MyBanner"
   ]
  },
  {
   "cell_type": "code",
   "execution_count": null,
   "id": "f07ae855-08d3-4553-bcbc-5ea4f8456ea6",
   "metadata": {},
   "outputs": [],
   "source": [
    "RSS_LIST = {\n",
    "    'top-topics': 'https://news.yahoo.co.jp/rss/topics/top-picks.xml',  # 主要\n",
    "    'business': 'https://news.yahoo.co.jp/rss/topics/business.xml',  # 経済\n",
    "    'entertainment': 'https://news.yahoo.co.jp/rss/topics/entertainment.xml',  # エンタメ\n",
    "    'sports': 'https://news.yahoo.co.jp/rss/topics/sports.xml',  # スポーツ\n",
    "#    'domestic': 'https://news.yahoo.co.jp/rss/topics/domestic.xml',  # 国内\n",
    "#    'world': 'https://news.yahoo.co.jp/rss/topics/world.xml',  # 国際\n",
    "    'it': 'https://news.yahoo.co.jp/rss/topics/it.xml',  # IT\n",
    "#    'science': 'https://news.yahoo.co.jp/rss/topics/science.xml',  # 科学\n",
    "}\n",
    "\n",
    "COLLECTION_NAME = 'yj_topics_data'"
   ]
  },
  {
   "cell_type": "markdown",
   "id": "38a62311-8335-479e-850a-212442b6d579",
   "metadata": {},
   "source": [
    "### パッケージインストール"
   ]
  },
  {
   "cell_type": "code",
   "execution_count": null,
   "id": "80120d92-56d6-4d73-b96c-346f53c4dc9a",
   "metadata": {},
   "outputs": [],
   "source": [
    "MyBanner.start()\n",
    "\n",
    "!pip install feedparser\n",
    "!pip install langchain_community\n",
    "!pip install tiktoken \n",
    "\n",
    "MyBanner.finish()"
   ]
  },
  {
   "cell_type": "markdown",
   "id": "2c147c95-06ee-4009-acf0-c1fb8805b784",
   "metadata": {},
   "source": [
    "### import"
   ]
  },
  {
   "cell_type": "code",
   "execution_count": null,
   "id": "eac70eed-93e4-4b6e-9d0f-ad533d24e36e",
   "metadata": {},
   "outputs": [],
   "source": [
    "MyBanner.start()\n",
    "\n",
    "import feedparser\n",
    "from langchain_community.document_loaders import WebBaseLoader\n",
    "import time\n",
    "from langchain.text_splitter import CharacterTextSplitter\n",
    "\n",
    "MyBanner.finish()"
   ]
  },
  {
   "cell_type": "markdown",
   "id": "87fbff8f-d8be-44f1-98cb-3588c1735159",
   "metadata": {},
   "source": [
    "## 1. データ収集"
   ]
  },
  {
   "cell_type": "markdown",
   "id": "38a235e4-f214-4333-adb8-fe02f03e62f0",
   "metadata": {},
   "source": [
    "### Crawling & Scraping"
   ]
  },
  {
   "cell_type": "code",
   "execution_count": null,
   "id": "ba160e13-0b1e-437f-aea5-3ddde98bb796",
   "metadata": {},
   "outputs": [],
   "source": [
    "MyBanner.start()\n",
    "\n",
    "SLEEP_SEC = 0.25\n",
    "\n",
    "# gather the detail page urls from each rss of topics\n",
    "page_list = {}\n",
    "for key in RSS_LIST.keys():\n",
    "    rss_url = RSS_LIST[key]\n",
    "    print(f\"{key=}: {rss_url=}\")\n",
    "    rss = feedparser.parse(rss_url)\n",
    "    pages = []\n",
    "    for entry in rss.entries:\n",
    "        title = entry.title\n",
    "        flg = hasattr(entry, 'comments')\n",
    "        pg_url = None\n",
    "        if flg == True:\n",
    "            pg_url = entry.comments.removesuffix('/comments')\n",
    "        print(title, pg_url)\n",
    "        if flg == True:\n",
    "            pages.append(pg_url)\n",
    "    page_list[key] = pages\n",
    "    time.sleep(SLEEP_SEC)\n",
    "\n",
    "print(f\"{page_list=}\" + \"\\n\" + (\"/\" * 40))\n",
    "\n",
    "# scrape the detail pages\n",
    "docs = []\n",
    "for key in page_list.keys():\n",
    "    pages = page_list[key]\n",
    "    for pg_url in pages:\n",
    "        doc = WebBaseLoader(pg_url).load()\n",
    "        docs += doc\n",
    "        time.sleep(SLEEP_SEC)\n",
    "\n",
    "print(f\"{len(docs)=}\" + \"\\n\" + (\"/\" * 40))\n",
    "print(f\"{docs[:2]=}\")\n",
    "\n",
    "MyBanner.finish()"
   ]
  },
  {
   "cell_type": "markdown",
   "id": "8970dfa1-936d-4c55-899c-5a7613f8f87a",
   "metadata": {},
   "source": [
    "### Chunking"
   ]
  },
  {
   "cell_type": "code",
   "execution_count": null,
   "id": "431c8328-2dbf-406a-90b3-58541c74e603",
   "metadata": {},
   "outputs": [],
   "source": [
    "MyBanner.start()\n",
    "\n",
    "# Chunk into 1,000 character chunks with newlines as delimiters\n",
    "text_splitter = CharacterTextSplitter.from_tiktoken_encoder(\n",
    "    separator = \"\\n\",\n",
    "    chunk_size= 1000,\n",
    "    chunk_overlap=100,\n",
    ")\n",
    "doc_splits = text_splitter.split_documents(docs)\n",
    "docs = doc_splits\n",
    "\n",
    "# Chunk into 1,000 character chunks with a full-width space as delimiters\n",
    "text_splitter = CharacterTextSplitter.from_tiktoken_encoder(\n",
    "    separator = \"　\",\n",
    "    chunk_size= 1000,\n",
    "    chunk_overlap=100,\n",
    ")\n",
    "doc_splits = text_splitter.split_documents(docs)\n",
    "docs = doc_splits\n",
    "\n",
    "print(f\"{len(docs)=}\" + \"\\n\" + (\"/\" * 40))\n",
    "print(f\"{doc_splits[:5]=}\")\n",
    "\n",
    "MyBanner.finish()"
   ]
  },
  {
   "cell_type": "markdown",
   "id": "4b9e92ed-433a-4a2d-9bcd-e6eda7a88f15",
   "metadata": {},
   "source": [
    "## 2. ベクトル化 (Vectorization)"
   ]
  },
  {
   "cell_type": "markdown",
   "id": "972a5983-1880-4f79-9a91-7243754cadb4",
   "metadata": {},
   "source": [
    "### Embedding生成"
   ]
  },
  {
   "cell_type": "code",
   "execution_count": null,
   "id": "cddf4472-89d1-4cc3-8b0a-06129dbc67c5",
   "metadata": {},
   "outputs": [],
   "source": [
    "MyBanner.start()\n",
    "from mylib.MyEmbedding import MyEmbedding\n",
    "\n",
    "embeddings = MyEmbedding.get_model()\n",
    "print(f\"{embeddings=}\")\n",
    "\n",
    "MyBanner.finish()"
   ]
  },
  {
   "cell_type": "markdown",
   "id": "81ed8882-54a1-4da2-a2ae-fc45356bcd66",
   "metadata": {},
   "source": [
    "### EmbeddingとVDB挿入"
   ]
  },
  {
   "cell_type": "code",
   "execution_count": null,
   "id": "e4d40bd4-714d-43ff-a0d4-7a8e726a11bc",
   "metadata": {},
   "outputs": [],
   "source": [
    "MyBanner.start()\n",
    "\n",
    "from mylib.MyMilvus import MyMilvus\n",
    "\n",
    "milvus = MyMilvus(\\\n",
    "    myconstant.VDB_HOST, myconstant.VDB_PORT,\\\n",
    "    myconstant.VDB_USER, myconstant.VDB_PASS, embeddings)\n",
    "print(f\"{milvus=}\")\n",
    "\n",
    "# Insert into Vector DB while embedding immediately after connecting to it\n",
    "vector_db = milvus.from_documents(docs, COLLECTION_NAME)\n",
    "print(f\"{len(docs)=}\")\n",
    "print(f\"{COLLECTION_NAME=}\")\n",
    "print(f\"{vector_db=}\")\n",
    "\n",
    "MyBanner.finish()"
   ]
  }
 ],
 "metadata": {
  "kernelspec": {
   "display_name": "Python 3 (ipykernel)",
   "language": "python",
   "name": "python3"
  },
  "language_info": {
   "codemirror_mode": {
    "name": "ipython",
    "version": 3
   },
   "file_extension": ".py",
   "mimetype": "text/x-python",
   "name": "python",
   "nbconvert_exporter": "python",
   "pygments_lexer": "ipython3",
   "version": "3.12.3"
  }
 },
 "nbformat": 4,
 "nbformat_minor": 5
}
