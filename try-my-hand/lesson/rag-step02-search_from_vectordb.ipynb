{
 "cells": [
  {
   "cell_type": "markdown",
   "id": "f8403430-4a3e-4784-a77a-c6be0776aca1",
   "metadata": {},
   "source": [
    "# Step 2: Vector DBで類似検索"
   ]
  },
  {
   "cell_type": "markdown",
   "id": "e15b64ca-c55b-4cf6-8370-e802ac45747f",
   "metadata": {},
   "source": [
    "本ステップでは、ひとつ前のステップで構造化データを登録したベクトルデータベースから、サンプルのクエリを投入して類似検索を実行する過程を経験します。\n",
    "- Hugging FaceからEmbedding Modelを取得してメモリに読み込み、Modelを指定してベクトルデータベースに接続する\n",
    "- 類似検索実行前に「pkカラム」で条件指定してベクトルデータベースへ検索の疎通確認をする\n",
    "- サンプルのクエリを用意していくつかのオプション指定で類似検索を試す\n",
    "![Step2](../image/rag-overview-step2.png)"
   ]
  },
  {
   "cell_type": "markdown",
   "id": "40604d13-6748-4ed5-b02b-7abc05e77b36",
   "metadata": {},
   "source": [
    "## 0. 事前準備"
   ]
  },
  {
   "cell_type": "markdown",
   "id": "b6a29974-a8dd-476e-8040-34d5b9b49073",
   "metadata": {},
   "source": [
    "### 共通処理/定数定義\n",
    "全ステップで共通して使用する定数とバナークラスを読み込む"
   ]
  },
  {
   "cell_type": "code",
   "execution_count": null,
   "id": "674caded-6bc1-4c30-94e1-9959a8ca5409",
   "metadata": {},
   "outputs": [],
   "source": [
    "from mylib import myconstant\n",
    "from mylib.MyBanner import MyBanner"
   ]
  },
  {
   "cell_type": "markdown",
   "id": "ac693f62-fbfb-409e-ba3e-a6a5e0e2ec50",
   "metadata": {},
   "source": [
    "### パッケージインストール\n",
    "本ステップの処理で依存するパッケージをインストールする"
   ]
  },
  {
   "cell_type": "code",
   "execution_count": null,
   "id": "7bf2cf6a-bcbe-4238-987a-309e2b576ad6",
   "metadata": {},
   "outputs": [],
   "source": [
    "MyBanner.start()\n",
    "\n",
    "!python -V\n",
    "!pip install langchain\n",
    "!pip install langchain-huggingface\n",
    "!pip install langchain-milvus\n",
    "\n",
    "!pip install ipywidgets\n",
    "!pip install urllib3==1.26.20\n",
    "\n",
    "MyBanner.finish()"
   ]
  },
  {
   "cell_type": "markdown",
   "id": "a73d9423-7c39-445a-a4a9-cafd0548504d",
   "metadata": {},
   "source": [
    "### import\n",
    "本ステップの処理で依存するモジュールを読み込む"
   ]
  },
  {
   "cell_type": "code",
   "execution_count": null,
   "id": "b4062d57-461d-45e5-87ba-a4f4282dea12",
   "metadata": {},
   "outputs": [],
   "source": [
    "MyBanner.start()\n",
    "\n",
    "from mylib.MyEmbedding import MyEmbedding\n",
    "from mylib.MyMilvus import MyMilvus\n",
    "\n",
    "MyBanner.finish()"
   ]
  },
  {
   "cell_type": "markdown",
   "id": "ac50519f-9c4c-42a1-8752-be5b157f4fee",
   "metadata": {},
   "source": [
    "## 1. 生成"
   ]
  },
  {
   "cell_type": "markdown",
   "id": "32ae1833-8037-4b97-9150-af4ef031c292",
   "metadata": {},
   "source": [
    "### 【準備】Embedding Model読込\n",
    "Embedding Modelをメモリに読み込む"
   ]
  },
  {
   "cell_type": "code",
   "execution_count": null,
   "id": "edc3dec9-0c9c-478e-ac63-5489425e8388",
   "metadata": {},
   "outputs": [],
   "source": [
    "MyBanner.start()\n",
    "\n",
    "embeddings = MyEmbedding.get_model()\n",
    "print(f\"{embeddings=}\")\n",
    "\n",
    "MyBanner.finish()"
   ]
  },
  {
   "cell_type": "markdown",
   "id": "07734cff-960b-4888-992f-64045fb8d2f9",
   "metadata": {},
   "source": [
    "### 【準備】Vector DB接続\n",
    "エンベディングで利用するEmbedding Modelと接続情報を渡してベクトルデータベースへ接続する\n",
    "- 接続失敗した場合は、Milvus(milvus-standalone コンテナ)が起動しているか確認する"
   ]
  },
  {
   "cell_type": "code",
   "execution_count": null,
   "id": "3f2ada22-af64-474f-b68b-96bb64073424",
   "metadata": {},
   "outputs": [],
   "source": [
    "MyBanner.start()\n",
    "\n",
    "# connect to VectorDB\n",
    "vector_db = MyMilvus(\n",
    "    myconstant.VDB_HOST, myconstant.VDB_PORT,\n",
    "    myconstant.VDB_USER, myconstant.VDB_PASS, embeddings)\n",
    "print(f\"{vector_db=}\")\n",
    "\n",
    "MyBanner.finish()"
   ]
  },
  {
   "cell_type": "markdown",
   "id": "0943c869-0b07-4151-965b-267619a83067",
   "metadata": {},
   "source": [
    "### 【準備】Doc Store接続\n",
    "RDBのテーブルに該当するドキュメントストアに接続する"
   ]
  },
  {
   "cell_type": "code",
   "execution_count": null,
   "id": "115ea69c-be11-4978-83b7-3a8224c9fdd1",
   "metadata": {},
   "outputs": [],
   "source": [
    "MyBanner.start()\n",
    "\n",
    "# connect to a store in Vector DB\n",
    "docstore_list = vector_db.get_collections()\n",
    "docstore_name = docstore_list[0]\n",
    "docstore = vector_db.connect(docstore_name)\n",
    "print(f\"{docstore_list=}\")\n",
    "print(f\"{docstore_name=}\")\n",
    "print(f\"{docstore=}\")\n",
    "\n",
    "MyBanner.finish()"
   ]
  },
  {
   "cell_type": "markdown",
   "id": "ee4fe499-71ff-4ce4-9354-0d6add013cd7",
   "metadata": {},
   "source": [
    "### 【確認】類似検索前にVectorDB検索確認\n",
    "類似検索を試す前にフィールドで条件指定した検索で、ベクトルデータベースの接続と検索動作を確認する"
   ]
  },
  {
   "cell_type": "code",
   "execution_count": null,
   "id": "f000f6ec-ada4-49d1-a21f-6bbcb30942e0",
   "metadata": {},
   "outputs": [],
   "source": [
    "MyBanner.start()\n",
    "from pymilvus import MilvusClient\n",
    "import pandas as pd\n",
    "\n",
    "pk_list = docstore.get_pks(expr = \"pk > 0\")\n",
    "print(f\"{pk_list=}\")\n",
    "pk_list = pk_list[:4]\n",
    "print(f\"{pk_list=}\")\n",
    "\n",
    "connection_args = vector_db.get_connection_args()\n",
    "client = MilvusClient(uri = connection_args['uri'], token = connection_args['token'])\n",
    "res = client.get(\n",
    "    collection_name = docstore_name,\n",
    "    ids=pk_list\n",
    ")\n",
    "\n",
    "for i, milvus_rec in enumerate(res):\n",
    "    res[i]['vector'] = \"[\"+\", \".join(map(str, milvus_rec['vector']))+\"]\"\n",
    "    res[i]['pk'] = str(milvus_rec['pk'])\n",
    "\n",
    "df_s = pd.DataFrame.from_dict(res).reindex(columns=['text', 'pk', 'vector'])\n",
    "display(df_s)\n",
    "\n",
    "MyBanner.finish()"
   ]
  },
  {
   "cell_type": "markdown",
   "id": "dc1e0050-e845-480c-ac84-1f2aedb253da",
   "metadata": {},
   "source": [
    "## 2. Vector DBテキスト類似検索\n",
    "数種類のオプション指定を用いて類似検索を試す"
   ]
  },
  {
   "cell_type": "markdown",
   "id": "036a08d2-bf69-434e-8fce-81949db7b9d0",
   "metadata": {},
   "source": [
    "### 1) similarity_search: オプションなし デフォルト"
   ]
  },
  {
   "cell_type": "code",
   "execution_count": null,
   "id": "c11c04c6-db3c-4e8b-83c8-a1b3abc24e82",
   "metadata": {},
   "outputs": [],
   "source": [
    "MyBanner.start()\n",
    "\n",
    "query = \"パソコンの使い方を学べるセミナーを教えてください\"\n",
    "docs = docstore.similarity_search(query)\n",
    "for doc in docs:\n",
    "    print(\"*\", {\"metadata\": doc.metadata, \"content\": doc.page_content[0:100]} )\n",
    "\n",
    "MyBanner.finish()"
   ]
  },
  {
   "cell_type": "markdown",
   "id": "8f5af47f-e227-4ce5-a027-55ef88cb7dad",
   "metadata": {},
   "source": [
    "### 2) similarity_search: 結果取得数をkで指定(デフォルトは4)"
   ]
  },
  {
   "cell_type": "code",
   "execution_count": null,
   "id": "bd5607de-644b-4a2c-aa45-fa7fa2b6721a",
   "metadata": {},
   "outputs": [],
   "source": [
    "MyBanner.start()\n",
    "\n",
    "# 結果の取得数をkで指定(デフォルトは4)\n",
    "docs = docstore.similarity_search(query, k=10)\n",
    "for doc in docs:\n",
    "    print(\"*\", {\"metadata\": doc.metadata, \"content\": doc.page_content[0:100]} )\n",
    "\n",
    "MyBanner.finish()"
   ]
  },
  {
   "cell_type": "markdown",
   "id": "81eafee3-0ffe-4377-b492-94b84f1c1f12",
   "metadata": {},
   "source": [
    "### 3) similarity_search_with_score: 類似度のスコアも一緒に出力"
   ]
  },
  {
   "cell_type": "code",
   "execution_count": null,
   "id": "de21ed25-c39b-4586-a8c3-2323e4875a63",
   "metadata": {},
   "outputs": [],
   "source": [
    "MyBanner.start()\n",
    "\n",
    "# The closer the score is to 1, the higher the similarity.\n",
    "docs = docstore.similarity_search_with_score(query, k=10)\n",
    "for doc, score in docs:\n",
    "    print(\"*\", {\"score\": score, \"metadata\": doc.metadata, \"content\": doc.page_content[0:100]} )\n",
    "\n",
    "MyBanner.finish()"
   ]
  },
  {
   "cell_type": "markdown",
   "id": "44b90a41-41fb-49ed-a5c9-ee4fbb18e6ee",
   "metadata": {},
   "source": [
    "### 4) similarity_search_with_score: exprオプションで 'category' フィルター"
   ]
  },
  {
   "cell_type": "code",
   "execution_count": null,
   "id": "4a1944ad-b888-4d84-a8e2-5a17b31d9a38",
   "metadata": {},
   "outputs": [],
   "source": [
    "MyBanner.start()\n",
    "\n",
    "# 一つ前の検索結果で最終レコードのcategoryでフィルターして検索\n",
    "target = doc.metadata[\"category\"]\n",
    "print(f\"{target=}\")\n",
    "docs = docstore.similarity_search_with_score(query, k=10, expr=\"category=='%s'\" % target)\n",
    "for doc, score in docs:\n",
    "    print(\"*\", {\"score\": score, \"metadata\": doc.metadata, \"content\": doc.page_content[0:100] + \"...\"} )\n",
    "\n",
    "MyBanner.finish()"
   ]
  },
  {
   "cell_type": "markdown",
   "id": "454a3c66-8d22-4b4c-97f2-8b3a7aa11bb2",
   "metadata": {},
   "source": [
    "## 3. 本ステップを終えて"
   ]
  },
  {
   "cell_type": "markdown",
   "id": "362731b2-0177-4c7a-94df-e0b4d7a62121",
   "metadata": {},
   "source": [
    "ここまでの手順でベクトルデータベースを使った類似検索を経験しました。次のステップではLLMに回答案を生成を依頼するためのテンプレート作成の過程を経験します。\n",
    "- 次のStep ≫ [Step 3: LLM Template作成](./rag-step03-llm_template.ipynb)\n",
    "- 今のStep ≫ Step 2: Vector DBで類似検索\n",
    "- 前のStep ≫ [Step 1: 構造化データのVector DB登録](./rag-step01-excel_to_vectordb.ipynb)"
   ]
  }
 ],
 "metadata": {
  "kernelspec": {
   "display_name": "Python 3 (ipykernel)",
   "language": "python",
   "name": "python3"
  },
  "language_info": {
   "codemirror_mode": {
    "name": "ipython",
    "version": 3
   },
   "file_extension": ".py",
   "mimetype": "text/x-python",
   "name": "python",
   "nbconvert_exporter": "python",
   "pygments_lexer": "ipython3",
   "version": "3.9.6"
  }
 },
 "nbformat": 4,
 "nbformat_minor": 5
}
