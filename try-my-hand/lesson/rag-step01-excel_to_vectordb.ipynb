{
 "cells": [
  {
   "cell_type": "markdown",
   "id": "715784fc-7b1e-4638-9aef-6a505265eb25",
   "metadata": {},
   "source": [
    "# Step 1: 構造化データのVector DB登録"
   ]
  },
  {
   "cell_type": "markdown",
   "id": "eb087ca1-704d-401a-a69a-df32b86f34a4",
   "metadata": {},
   "source": [
    "本ステップでは、RAGに必要な類似検索で利用するベクトルデータベースの環境を整えることを目的に、構造化データとして用意したExcelファイルをベクトル化してベクトルデータベースに保存する過程を経験します。\n",
    "- 構造化データのExcelファイルをPandas DataFrameに読み込みます\n",
    "- 今回はExcelの1行をベクトルデータベースの1行として登録します（Excelで管理している行より細かくチャンキングは行いません）\n",
    "- ベクトルデータベースに登録するため、DataFrameからメタデータとコンテンツの構造から成るLangChainのDocument形式に変換します\n",
    "- Hugging FaceからEmbedding Modelを読み込み、エンベディング（ベクトル化）しながらベクトルデータベースに登録します\n",
    "![Step1](../image/rag-overview-step1.png)"
   ]
  },
  {
   "cell_type": "markdown",
   "id": "ad3e2ede-da0a-41f6-b2fb-265098c5b919",
   "metadata": {},
   "source": [
    "**用意している構造化データについて**\n",
    "\n",
    "本ステップを体験するために、構造化データを用意しておりますが、事前に以下サイトから講座情報を収集してExcelファイルに保存しています。\n",
    "- サイト名：東京都 東京リカレントナビ\n",
    "- URL：https://www.recurrent-navi.metro.tokyo.lg.jp\n",
    "\n",
    "| ![Step1](../image/tyo_recurrent_navi-top.png) | ![Step1](../image/tyo_recurrent_navi-seminar.png) |\n",
    "|:---:|:---:|\n",
    "| 図. トップページ | 図. 講座情報ページ |\n"
   ]
  },
  {
   "cell_type": "markdown",
   "id": "d9569bba-9c0a-4f3a-85af-2ee8e7f861d0",
   "metadata": {},
   "source": [
    "## 0. 事前準備"
   ]
  },
  {
   "cell_type": "markdown",
   "id": "2c21dd87-e8f1-40b8-9409-6422a9dbb148",
   "metadata": {},
   "source": [
    "### 共通処理/定数定義\n",
    "全ステップで共通して使用する定数を宣言してファイルに書き出します。"
   ]
  },
  {
   "cell_type": "code",
   "execution_count": null,
   "id": "e02aee6a-d424-4f95-bb57-dbe14c8648c8",
   "metadata": {},
   "outputs": [],
   "source": [
    "%%writefile mylib/myconstant.py\n",
    "VDB_HOST = \"127.0.0.1\"\n",
    "VDB_PORT = 19530\n",
    "VDB_USER = \"root\"\n",
    "VDB_PASS = \"Milvus\""
   ]
  },
  {
   "cell_type": "markdown",
   "id": "b39f6529-2b46-48e1-8105-6852a0f9b045",
   "metadata": {},
   "source": [
    "処理時間を把握するためのバナークラスを定義してクラスファイルに書き出します。"
   ]
  },
  {
   "cell_type": "code",
   "execution_count": null,
   "id": "14af85a1-f197-4760-9ecc-843a92ac6044",
   "metadata": {},
   "outputs": [],
   "source": [
    "%%writefile mylib/MyBanner.py\n",
    "import time\n",
    "import datetime\n",
    "\n",
    "class MyBanner:\n",
    "    s_time = 0\n",
    "    @staticmethod\n",
    "    def start():\n",
    "    \tMyBanner.s_time = time.perf_counter()\n",
    "    \tprint(\"### START (%s) ###########\" % (datetime.datetime.now()))\n",
    "\n",
    "    @staticmethod\n",
    "    def passing(message):\n",
    "        n_time = time.perf_counter()\n",
    "        print(\">>> %s (lap time = %.2f sec)\" % (message, n_time - MyBanner.s_time))\n",
    "\n",
    "    @staticmethod\n",
    "    def finish():\n",
    "    \te_time = time.perf_counter()\n",
    "    \tprint(\"### FINISH (%s > duration = %.2f sec) ###########\" % (datetime.datetime.now(), e_time - MyBanner.s_time))"
   ]
  },
  {
   "cell_type": "markdown",
   "id": "0288ce03-b37c-4612-9e2e-e7aacde543f0",
   "metadata": {},
   "source": [
    "全ステップで共通して使用する定数とバナークラスを読み込み、本ステップで使用する定数を宣言します。"
   ]
  },
  {
   "cell_type": "code",
   "execution_count": null,
   "id": "a30761ea-6277-4687-8c6e-31fec61571ba",
   "metadata": {},
   "outputs": [],
   "source": [
    "from mylib import myconstant\n",
    "from mylib.MyBanner import MyBanner\n",
    "\n",
    "EXCEL_FILE = '../data/recurrent_navi_tyo.xlsx'\n",
    "META_FIELDS = {\"No.\": \"id\", \"施設の分類\": \"category\"}\n",
    "META_FIELDS = {}"
   ]
  },
  {
   "cell_type": "markdown",
   "id": "95cf9a7f-33f7-4d87-a801-f76f278002f5",
   "metadata": {},
   "source": [
    "### パッケージインストール\n",
    "本ステップの処理で依存するパッケージをインストールします。"
   ]
  },
  {
   "cell_type": "code",
   "execution_count": null,
   "id": "63ff6e32",
   "metadata": {
    "scrolled": true
   },
   "outputs": [],
   "source": [
    "MyBanner.start()\n",
    "\n",
    "!python -V\n",
    "!pip install pandas\n",
    "!pip install openpyxl\n",
    "!pip install langchain\n",
    "!pip install langchain-huggingface\n",
    "!pip install langchain-milvus\n",
    "!pip install sentence-transformers\n",
    "\n",
    "!pip install ipywidgets\n",
    "!pip install urllib3==1.26.20\n",
    "\n",
    "MyBanner.finish()"
   ]
  },
  {
   "cell_type": "markdown",
   "id": "50310c4a-f1dc-468d-b2e8-4ebd3b5b3cea",
   "metadata": {},
   "source": [
    "### import\n",
    "本ステップの処理で依存するモジュールを読み込みます。"
   ]
  },
  {
   "cell_type": "code",
   "execution_count": null,
   "id": "9e2e00b1-7100-4d5b-8243-9bbb377ee31a",
   "metadata": {},
   "outputs": [],
   "source": [
    "MyBanner.start()\n",
    "\n",
    "import pandas as pd\n",
    "import os\n",
    "import json\n",
    "from langchain_core.documents import Document\n",
    "\n",
    "MyBanner.finish()"
   ]
  },
  {
   "cell_type": "markdown",
   "id": "0dd94e5f",
   "metadata": {},
   "source": [
    "## 1. 構造化データ読込"
   ]
  },
  {
   "cell_type": "markdown",
   "id": "4d3e8245",
   "metadata": {},
   "source": [
    "### 【準備】ExcelデータDF読込\n",
    "Excelファイルの全シートをDF(Pandas DataFrame)形式で読み込みます。"
   ]
  },
  {
   "cell_type": "code",
   "execution_count": null,
   "id": "bfd3691b",
   "metadata": {},
   "outputs": [],
   "source": [
    "MyBanner.start()\n",
    "\n",
    "# load from all sheets and store them in df_list.\n",
    "file_path = EXCEL_FILE\n",
    "print(f\"{file_path=}\")\n",
    "\n",
    "df_list = []\n",
    "for sheet_name in pd.ExcelFile(file_path).sheet_names:\n",
    "    df = pd.read_excel(file_path, sheet_name=sheet_name)\n",
    "    df_list.append(df)\n",
    "\n",
    "# find the collection name from an excel file name\n",
    "collection_name = os.path.splitext(os.path.basename(file_path))[0]\n",
    "print(f\"{collection_name=}\")\n",
    "\n",
    "MyBanner.finish()"
   ]
  },
  {
   "cell_type": "markdown",
   "id": "1c3de0dd",
   "metadata": {},
   "source": [
    "## 2. Chunking"
   ]
  },
  {
   "cell_type": "markdown",
   "id": "a904bd3c-b93c-4953-8900-c62dbda23988",
   "metadata": {},
   "source": [
    "### 【準備】Cleansing\n",
    "ベクトルデータベースで類似検索の効率が上がるようにデータを整えます。\n",
    "- 'id'と'category'をメタ情報とするため、メタ情報として扱うカラムを該当のカラム名に置き換えます"
   ]
  },
  {
   "cell_type": "code",
   "execution_count": null,
   "id": "611a93cd-78a8-4822-9ddf-950cc292fc53",
   "metadata": {},
   "outputs": [],
   "source": [
    "MyBanner.start()\n",
    "\n",
    "for index in range(len(df_list)):\n",
    "    df = df_list[index]\n",
    "    df = df.rename(columns=META_FIELDS)\n",
    "    df_list[index] = df\n",
    "    # Show the first 5 rows for each sheet\n",
    "    print(f\"\\nExcel sheet name: {sheet_name}\")\n",
    "    display(df.head())\n",
    "\n",
    "MyBanner.finish()"
   ]
  },
  {
   "cell_type": "markdown",
   "id": "5cf9645d-1bc2-4a04-97ea-3aeb08d2ba9f",
   "metadata": {},
   "source": [
    "### 【準備】JSON変換とメタ情報抽出\n",
    "LangChain Document形式の格納に向けてJSON形式に変換しメタ情報を抽出します。\n",
    "- DataFrameの行単位にセル列をフィールドとしたJSON形式に変換します\n",
    "- 1つのExcelファイルで全てのシートを集約して、セル情報のListを生成します\n",
    "- 'id'と’category'列を抜き出し、メタ情報のListを生成します"
   ]
  },
  {
   "cell_type": "code",
   "execution_count": null,
   "id": "8adf2d9a",
   "metadata": {},
   "outputs": [],
   "source": [
    "MyBanner.start()\n",
    "\n",
    "json_meta_list=[]\n",
    "json_content_list=[]\n",
    "\n",
    "# Iterate through each sheet\n",
    "for df in df_list:\n",
    "    json_meta_string =  json.loads(df[['id', 'category']].to_json(orient='records', force_ascii=False), parse_int=str)\n",
    "    json_doc_string = json.loads(df.to_json(orient='records', force_ascii=False))\n",
    "    json_meta_list.extend(json_meta_string)\n",
    "    json_content_list.extend(json_doc_string)\n",
    "\n",
    "print(f\"{len(json_meta_list)=}\")\n",
    "print(f\"{len(json_content_list)=}\")\n",
    "\n",
    "# Show data for inspection\n",
    "print(\"\\n* Meta-data (the first 5 rows):\")\n",
    "for index, item in enumerate(json_meta_list[0:5]):\n",
    "    print(index + 1, item)\n",
    "\n",
    "print(\"\\n* Vectorization data (the first 5 rows):\")\n",
    "for index, item in enumerate(json_content_list[0:5]):\n",
    "    print(index + 1, item)\n",
    "\n",
    "MyBanner.finish()"
   ]
  },
  {
   "cell_type": "markdown",
   "id": "9c4159b0",
   "metadata": {},
   "source": [
    "### 【処理】LangChain Doc変換\n",
    "ベクトルデータベースの登録向けにメタ情報とセル情報をLangChain Document形式に変換します。\n",
    "- DocumentのListをjson_meta_listとjson_doc_listから作成します\n",
    "- 1要素のDocumentでmetadataは、json_meta_listの一行分のjsonで構成します\n",
    "- 1要素のDocumentでpage_contentはjson_doc_listの一行分のjsonで構成します"
   ]
  },
  {
   "cell_type": "code",
   "execution_count": null,
   "id": "3e439e98",
   "metadata": {},
   "outputs": [],
   "source": [
    "MyBanner.start()\n",
    "\n",
    "docs = []\n",
    "for content_str, meta_str in zip(json_content_list, json_meta_list):\n",
    "    docs.append(Document(metadata=meta_str, page_content=json.dumps(content_str, ensure_ascii=False))) \n",
    "\n",
    "# Show data for inspection (the first 2 rows)\n",
    "print(f\"{len(docs)=}\")\n",
    "[(print(f\"{doc=}\\n\")) for doc in docs[0:2]]\n",
    "\n",
    "MyBanner.finish()"
   ]
  },
  {
   "cell_type": "markdown",
   "id": "c25c66f1-1560-4fa2-b900-bba6e57fdf3e",
   "metadata": {},
   "source": [
    "## 3. Vector DB登録"
   ]
  },
  {
   "cell_type": "markdown",
   "id": "8463f86a-e770-4492-ab38-f2e84b6a45ab",
   "metadata": {},
   "source": [
    "### 【定義】Embedding Class\n",
    "Embedding ModelをHugging Faceから取得して、メモリに読み込んで管理するためのクラスを定義してクラスファイルに書き出します。"
   ]
  },
  {
   "cell_type": "code",
   "execution_count": null,
   "id": "d67d59f3-1456-4bf4-8151-e302b85706de",
   "metadata": {},
   "outputs": [],
   "source": [
    "%%writefile mylib/MyEmbedding.py\n",
    "from langchain_huggingface import HuggingFaceEmbeddings\n",
    "\n",
    "class MyEmbedding:\n",
    "    @staticmethod\n",
    "    def get_model(model_name = \"intfloat/multilingual-e5-large\"):\n",
    "        model = HuggingFaceEmbeddings(model_name = model_name)\n",
    "        return model"
   ]
  },
  {
   "cell_type": "code",
   "execution_count": null,
   "id": "1c94f230-d6bd-4385-9728-414e34762b06",
   "metadata": {},
   "outputs": [],
   "source": [
    "MyBanner.start()\n",
    "from mylib.MyEmbedding import MyEmbedding\n",
    "\n",
    "embeddings = MyEmbedding.get_model()\n",
    "print(f\"{embeddings=}\")\n",
    "\n",
    "MyBanner.finish()"
   ]
  },
  {
   "cell_type": "markdown",
   "id": "a1604173-9325-41f4-8df9-c7d0792c4fb0",
   "metadata": {},
   "source": [
    "### 【定義】MyCustomRetriever Class\n",
    "類似スコア検索を実現するための独自処理を実装したRetrieverを定義してクラスファイルに書き出します。"
   ]
  },
  {
   "cell_type": "code",
   "execution_count": null,
   "id": "06883bc5-9d97-48df-a4d5-69e884c2ec08",
   "metadata": {},
   "outputs": [],
   "source": [
    "%%writefile mylib/MyCustomRetriever.py\n",
    "from langchain_core.vectorstores import VectorStoreRetriever\n",
    "from langchain_core.callbacks.manager import (CallbackManagerForRetrieverRun)\n",
    "from typing import List\n",
    "from langchain_core.documents import Document\n",
    "\n",
    "class MyCustomRetriever(VectorStoreRetriever):\n",
    "    def _get_relevant_documents(\n",
    "        self, query: str, *,\n",
    "        run_manager: CallbackManagerForRetrieverRun) -> List[Document]:\n",
    "        top_k = self.search_kwargs.get(\"k\", 4)\n",
    "        docs_and_similarities = self.vectorstore.similarity_search_with_score(query, k=top_k)      \n",
    "        threshold = self.search_kwargs.get(\"score_threshold\", 0)\n",
    "        return [doc for doc, score in docs_and_similarities if score >= threshold and score <= 1]\n",
    "    "
   ]
  },
  {
   "cell_type": "markdown",
   "id": "af8b9eb9-dace-47d6-979d-e2d8a5b2ab1a",
   "metadata": {},
   "source": [
    "### 【定義】MyMilvus Class\n",
    "ベクトルデータベースとして使う「Milvus」を管理するためのクラスを定義してクラスファイルに書き出します。"
   ]
  },
  {
   "cell_type": "code",
   "execution_count": null,
   "id": "6c6bc78e-2cf1-4a15-b131-0584bc8b47e0",
   "metadata": {},
   "outputs": [],
   "source": [
    "%%writefile mylib/MyMilvus.py\n",
    "from langchain_milvus import Milvus\n",
    "from pymilvus import MilvusClient\n",
    "from mylib.MyCustomRetriever import MyCustomRetriever\n",
    "\n",
    "class MyMilvus:\n",
    "\n",
    "    def __init__(self, host, port, user, password, embeddings):\n",
    "        self.connection_args = self.__get_connect_args(\n",
    "            host, port, user, password)\n",
    "        self.embeddings = embeddings\n",
    "        db_name = \"default\"\n",
    "        self.client = MilvusClient(\n",
    "            uri = \"http://%s:%d\" % (host, port),\n",
    "            token = \"%s:%s\" % (user, password),\n",
    "            db_name = db_name)\n",
    "\n",
    "    def get_connection_args(self):\n",
    "        return self.connection_args\n",
    "\n",
    "    def get_collections(self):\n",
    "        collections = self.client.list_collections()\n",
    "        return collections\n",
    "\n",
    "    # connect to the collection\n",
    "    def connect(self, collection_name):\n",
    "        collection = Milvus(\n",
    "            self.embeddings,\n",
    "            connection_args = self.connection_args,\n",
    "            collection_name = collection_name\n",
    "        )\n",
    "        return collection\n",
    "\n",
    "    def from_documents(self, docs, collection_name):\n",
    "        index_params = self.__get_index_params()\n",
    "        collection = Milvus.from_documents(\n",
    "            docs,\n",
    "            self.embeddings,\n",
    "            connection_args = self.connection_args,\n",
    "            collection_name = collection_name,\n",
    "            index_params = index_params,\n",
    "            drop_old = True, # If adding data, you should set False here.\n",
    "        )\n",
    "        return collection\n",
    "    \n",
    "    def get_retriever(self, collection, k = None, score = None):\n",
    "        if (k is None):\n",
    "            retriever = collection.as_retriever()\n",
    "        else:\n",
    "            if (score is None):\n",
    "                retriever = collection.as_retriever(search_kwargs={\"k\": k})\n",
    "            else:\n",
    "#                retriever = collection.as_retriever(\n",
    "#                    search_type=\"similarity_score_threshold\",\n",
    "#                    search_kwargs={\"k\": k, \"score_threshold\": score})\n",
    "                retriever = MyCustomRetriever(\n",
    "                    vectorstore = collection,\n",
    "                    search_kwargs={\"k\": k, \"score_threshold\": score})\n",
    "        return retriever\n",
    "\n",
    "    def __get_connect_args(self, host, port, user, password):\n",
    "        args ={\n",
    "            'uri': \"http://%s:%d\" % (host, port),\n",
    "            'token': \"%s:%s\" % (user, password)\n",
    "        }\n",
    "        return args\n",
    "\n",
    "    def __get_index_params(self):\n",
    "        params = {\n",
    "            \"metric_type\": \"COSINE\", # Cosine Similarity\n",
    "            \"index_type\": \"HNSW\", \n",
    "            \"params\": { \"M\": 16, \"efConstruction\": 200, \"efSearch\": 16}\n",
    "        }\n",
    "        return params\n"
   ]
  },
  {
   "cell_type": "markdown",
   "id": "5bc0375d-3e2f-4f45-9ea4-cd29b6fdf638",
   "metadata": {},
   "source": [
    "### 【処理】EmbeddingとVDB挿入\n",
    "エンベディングしながらベクトルデータベースにデータを登録します。"
   ]
  },
  {
   "cell_type": "code",
   "execution_count": null,
   "id": "2d26cd7e-32e4-48bb-8939-171c0ab246e7",
   "metadata": {},
   "outputs": [],
   "source": [
    "MyBanner.start()\n",
    "\n",
    "from mylib.MyMilvus import MyMilvus\n",
    "\n",
    "vector_db = MyMilvus(\\\n",
    "    myconstant.VDB_HOST, myconstant.VDB_PORT,\\\n",
    "    myconstant.VDB_USER, myconstant.VDB_PASS, embeddings)\n",
    "print(f\"{vector_db=}\")\n",
    "\n",
    "# Insert into Vector DB while embedding immediately after connecting to it\n",
    "docstore = vector_db.from_documents(docs, collection_name)\n",
    "print(f\"{len(docs)=}\")\n",
    "print(f\"{collection_name=}\")\n",
    "print(f\"{docstore=}\")\n",
    "\n",
    "MyBanner.finish()"
   ]
  },
  {
   "cell_type": "markdown",
   "id": "3741e3cf-a031-4aa1-bc61-e8617654c125",
   "metadata": {},
   "source": [
    "## 4. Vector DB登録データ確認"
   ]
  },
  {
   "cell_type": "markdown",
   "id": "c58d560b-09b1-4e32-8dd8-74722cba643e",
   "metadata": {},
   "source": [
    "### 確認方法1: Python言語\n",
    "ベクトルデータベースに登録されたデータをPythonのソースコードで確認します。"
   ]
  },
  {
   "cell_type": "code",
   "execution_count": null,
   "id": "eee5b66c-1a0f-4446-89e7-d9e997895766",
   "metadata": {},
   "outputs": [],
   "source": [
    "MyBanner.start()\n",
    "\n",
    "from pymilvus import MilvusClient\n",
    "import pandas as pd\n",
    "\n",
    "pk_list = docstore.get_pks(expr = \"pk > 0\")\n",
    "connection_args = vector_db.get_connection_args()\n",
    "client = MilvusClient(uri = connection_args['uri'], token = connection_args['token'])\n",
    "res = client.get(\n",
    "    collection_name = collection_name,\n",
    "    ids=pk_list\n",
    ")\n",
    "\n",
    "for i, doc_rec in enumerate(res):\n",
    "    res[i]['vector'] = \"[\"+\", \".join(map(str, doc_rec['vector']))+\"]\"\n",
    "    res[i]['pk'] = str(doc_rec['pk'])\n",
    "\n",
    "df_s = pd.DataFrame.from_dict(res).reindex(columns = ['id', 'category', 'text', 'pk', 'vector'])\n",
    "display(df_s)\n",
    "\n",
    "MyBanner.finish()"
   ]
  },
  {
   "cell_type": "markdown",
   "id": "36fa8f1a-056c-4e9f-9d36-b9c959bd3b84",
   "metadata": {},
   "source": [
    "### 確認方法2: Attu(Web UI)\n",
    "ベクトルデータベースに登録されたデータをWeb UIのAttuを使って確認します。"
   ]
  },
  {
   "cell_type": "markdown",
   "id": "404b84ae-e9bc-47a3-869c-58ac2752df8a",
   "metadata": {},
   "source": [
    "MilvusのWeb UI管理ツールの「Attu」をコンテナ（コンテナ名：milvus-attu）で起動しているので、ツールにアクセスして実際にベクトル化して登録されたデータを目視して確認します。\n",
    "- URL: http://localhost:8000/\n",
    "\n",
    "主要な画面のキャプチャーと概要説明\n",
    "| ![ログイン](./../image/attu-login.png) | ![データベース](./../image/attu-dbs.png) |\n",
    "|:---:|:---:|\n",
    "| 図1. ログイン | 図2. データベース一覧 |\n",
    "| ![コレクション](./../image/attu-collections.png) | ![レコード](./../image/attu-records.png) |\n",
    "| 図3. コレクション一覧 | 図4. コレクション詳細 |\n",
    "\n",
    "- 図1. ログイン\n",
    "\t- アクセスすると画面にMilvus-Address、Milvus Databaseなどがデフォルトで入力されています\n",
    "\t- 値は変更せず、全てデフォルトのままでConnectボタンを押下してデータベース一覧へ遷移して利用を開始します\n",
    "- 図2. データベース一覧\n",
    "\t- Milvusに登録されているデータベースが一覧表示されています\n",
    "\t- 本ステップではdefaultデータベースのコレクションにデータを登録しているので、データベース一覧より該当のデータベースを押下してコレクション一覧に遷移します\n",
    "- 図3. コレクション一覧\n",
    "\t- defaultデータベースに登録されているコレクションが一覧表示されています\n",
    "\t- 本ステップではrecurrent_navi_tyoコレクションにデータを登録しているので、コレクション一覧より該当のコレクションを押下してコレクション詳細に遷移します\n",
    "- 図4. コレクション詳細\n",
    "\t- SchemaからPropertiesまで7つのタブで構成されています\n",
    "\t- Dataタブを押下すると、本ステップで実際に登録したデータのベクトル値を含めた登録状態を目視できます"
   ]
  },
  {
   "cell_type": "markdown",
   "id": "050f60fb-88f9-4e54-9867-955173afe046",
   "metadata": {},
   "source": [
    "## 5. 本ステップを終えて"
   ]
  },
  {
   "cell_type": "markdown",
   "id": "a273a1c2-90b9-43d9-bca7-f5b972d9d423",
   "metadata": {},
   "source": [
    "ここまでの手順で構造化データをベクトルデータベースに登録する過程を経験しました。次のステップではベクトルデータベースに登録されているデータで類似検索の実行を経験します。\n",
    "- 次のStep ≫ [Step 2: Vector DBで類似検索](./rag-step02-search_from_vectordb.ipynb)\n",
    "- 今のStep ≫ Step 1: 構造化データのVector DB登録"
   ]
  }
 ],
 "metadata": {
  "kernelspec": {
   "display_name": "Python 3 (ipykernel)",
   "language": "python",
   "name": "python3"
  },
  "language_info": {
   "codemirror_mode": {
    "name": "ipython",
    "version": 3
   },
   "file_extension": ".py",
   "mimetype": "text/x-python",
   "name": "python",
   "nbconvert_exporter": "python",
   "pygments_lexer": "ipython3",
   "version": "3.12.3"
  }
 },
 "nbformat": 4,
 "nbformat_minor": 5
}
