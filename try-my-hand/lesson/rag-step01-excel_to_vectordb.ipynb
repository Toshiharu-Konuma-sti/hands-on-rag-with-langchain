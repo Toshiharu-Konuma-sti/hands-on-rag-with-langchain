{
 "cells": [
  {
   "cell_type": "markdown",
   "id": "715784fc-7b1e-4638-9aef-6a505265eb25",
   "metadata": {},
   "source": [
    "# Step 1: 構造化データのVector DB登録"
   ]
  },
  {
   "cell_type": "markdown",
   "id": "eb087ca1-704d-401a-a69a-df32b86f34a4",
   "metadata": {},
   "source": [
    "本ステップでは、RAGに必要な類似検索で利用するベクトルデータベースの環境を整えることを目的に、構造化データとして用意したExcelファイルをベクトル化してベクトルデータベースに保存する過程を経験します。\n",
    "- 構造化データのExcelファイルをPandas DataFrameに読み込みます\n",
    "- 今回はExcelの1行をベクトルデータベースの1行として登録します（Excelで管理している行より細かくチャンキングは行いません）\n",
    "- ベクトルデータベースに登録するため、DataFrameからメタデータとコンテンツの構造から成るLangChainのDocument形式に変換します\n",
    "- Hugging FaceからEmbedding Modelを読み込み、エンベディング（ベクトル化）しながらベクトルデータベースに登録します\n",
    "![Step1](../image/rag-overview-step1.png)"
   ]
  },
  {
   "cell_type": "markdown",
   "id": "ad3e2ede-da0a-41f6-b2fb-265098c5b919",
   "metadata": {},
   "source": [
    "**用意している構造化データについて**\n",
    "\n",
    "本ステップを体験するために、構造化データを用意しておりますが、事前に以下サイトから講座情報を収集してExcelファイルに保存しています。\n",
    "- サイト名：東京都 東京リカレントナビ\n",
    "- URL：https://www.recurrent-navi.metro.tokyo.lg.jp\n",
    "\n",
    "| ![Step1](../image/tyo_recurrent_navi-top.png) | ![Step1](../image/tyo_recurrent_navi-seminar.png) |\n",
    "|:---:|:---:|\n",
    "| 図. トップページ | 図. 講座情報ページ |\n"
   ]
  },
  {
   "cell_type": "markdown",
   "id": "d9569bba-9c0a-4f3a-85af-2ee8e7f861d0",
   "metadata": {},
   "source": [
    "## 0. 事前準備"
   ]
  },
  {
   "cell_type": "markdown",
   "id": "2c21dd87-e8f1-40b8-9409-6422a9dbb148",
   "metadata": {},
   "source": [
    "### 共通処理/定数定義\n",
    "全ステップで共通して使用する定数を宣言してファイルに書き出します。"
   ]
  },
  {
   "cell_type": "code",
   "execution_count": 1,
   "id": "e02aee6a-d424-4f95-bb57-dbe14c8648c8",
   "metadata": {},
   "outputs": [
    {
     "name": "stdout",
     "output_type": "stream",
     "text": [
      "Overwriting mylib/myconstant.py\n"
     ]
    }
   ],
   "source": [
    "%%writefile mylib/myconstant.py\n",
    "VDB_HOST = \"127.0.0.1\"\n",
    "VDB_PORT = 19530\n",
    "VDB_USER = \"root\"\n",
    "VDB_PASS = \"Milvus\""
   ]
  },
  {
   "cell_type": "markdown",
   "id": "b39f6529-2b46-48e1-8105-6852a0f9b045",
   "metadata": {},
   "source": [
    "処理時間を把握するためのバナークラスを定義してクラスファイルに書き出します。"
   ]
  },
  {
   "cell_type": "code",
   "execution_count": 2,
   "id": "14af85a1-f197-4760-9ecc-843a92ac6044",
   "metadata": {},
   "outputs": [
    {
     "name": "stdout",
     "output_type": "stream",
     "text": [
      "Overwriting mylib/MyBanner.py\n"
     ]
    }
   ],
   "source": [
    "%%writefile mylib/MyBanner.py\n",
    "import time\n",
    "import datetime\n",
    "\n",
    "class MyBanner:\n",
    "    s_time = 0\n",
    "    @staticmethod\n",
    "    def start():\n",
    "    \tMyBanner.s_time = time.perf_counter()\n",
    "    \tprint(\"### START (%s) ###########\" % (datetime.datetime.now()))\n",
    "\n",
    "    @staticmethod\n",
    "    def passing(message):\n",
    "        n_time = time.perf_counter()\n",
    "        print(\">>> %s (lap time = %.2f sec)\" % (message, n_time - MyBanner.s_time))\n",
    "\n",
    "    @staticmethod\n",
    "    def finish():\n",
    "    \te_time = time.perf_counter()\n",
    "    \tprint(\"### FINISH (%s > duration = %.2f sec) ###########\" % (datetime.datetime.now(), e_time - MyBanner.s_time))"
   ]
  },
  {
   "cell_type": "markdown",
   "id": "0288ce03-b37c-4612-9e2e-e7aacde543f0",
   "metadata": {},
   "source": [
    "全ステップで共通して使用する定数とバナークラスを読み込み、本ステップで使用する定数を宣言します。"
   ]
  },
  {
   "cell_type": "code",
   "execution_count": 3,
   "id": "a30761ea-6277-4687-8c6e-31fec61571ba",
   "metadata": {},
   "outputs": [],
   "source": [
    "from mylib import myconstant\n",
    "from mylib.MyBanner import MyBanner\n",
    "\n",
    "EXCEL_FILE = '../data/recurrent_navi_tyo.xlsx'\n",
    "META_FIELDS = {\"No.\": \"id\", \"施設の分類\": \"category\"}\n",
    "META_FIELDS = {}"
   ]
  },
  {
   "cell_type": "markdown",
   "id": "95cf9a7f-33f7-4d87-a801-f76f278002f5",
   "metadata": {},
   "source": [
    "### パッケージインストール\n",
    "本ステップの処理で依存するパッケージをインストールします。"
   ]
  },
  {
   "cell_type": "code",
   "execution_count": 4,
   "id": "63ff6e32",
   "metadata": {
    "scrolled": true
   },
   "outputs": [
    {
     "name": "stdout",
     "output_type": "stream",
     "text": [
      "### START (2025-10-26 22:41:43.157509) ###########\n",
      "Python 3.12.3\n",
      "Requirement already satisfied: pandas in /home/hoge/handson/hands-on-rag-with-langchain/try-my-hand/.venv/lib/python3.12/site-packages (2.3.3)\n",
      "Requirement already satisfied: numpy>=1.26.0 in /home/hoge/handson/hands-on-rag-with-langchain/try-my-hand/.venv/lib/python3.12/site-packages (from pandas) (2.2.6)\n",
      "Requirement already satisfied: python-dateutil>=2.8.2 in /home/hoge/handson/hands-on-rag-with-langchain/try-my-hand/.venv/lib/python3.12/site-packages (from pandas) (2.9.0.post0)\n",
      "Requirement already satisfied: pytz>=2020.1 in /home/hoge/handson/hands-on-rag-with-langchain/try-my-hand/.venv/lib/python3.12/site-packages (from pandas) (2025.2)\n",
      "Requirement already satisfied: tzdata>=2022.7 in /home/hoge/handson/hands-on-rag-with-langchain/try-my-hand/.venv/lib/python3.12/site-packages (from pandas) (2025.2)\n",
      "Requirement already satisfied: six>=1.5 in /home/hoge/handson/hands-on-rag-with-langchain/try-my-hand/.venv/lib/python3.12/site-packages (from python-dateutil>=2.8.2->pandas) (1.17.0)\n",
      "Requirement already satisfied: openpyxl in /home/hoge/handson/hands-on-rag-with-langchain/try-my-hand/.venv/lib/python3.12/site-packages (3.1.5)\n",
      "Requirement already satisfied: et-xmlfile in /home/hoge/handson/hands-on-rag-with-langchain/try-my-hand/.venv/lib/python3.12/site-packages (from openpyxl) (2.0.0)\n",
      "Requirement already satisfied: langchain in /home/hoge/handson/hands-on-rag-with-langchain/try-my-hand/.venv/lib/python3.12/site-packages (1.0.2)\n",
      "Requirement already satisfied: langchain-core<2.0.0,>=1.0.0 in /home/hoge/handson/hands-on-rag-with-langchain/try-my-hand/.venv/lib/python3.12/site-packages (from langchain) (1.0.1)\n",
      "Requirement already satisfied: langgraph<1.1.0,>=1.0.0 in /home/hoge/handson/hands-on-rag-with-langchain/try-my-hand/.venv/lib/python3.12/site-packages (from langchain) (1.0.1)\n",
      "Requirement already satisfied: pydantic<3.0.0,>=2.7.4 in /home/hoge/handson/hands-on-rag-with-langchain/try-my-hand/.venv/lib/python3.12/site-packages (from langchain) (2.11.10)\n",
      "Requirement already satisfied: jsonpatch<2.0.0,>=1.33.0 in /home/hoge/handson/hands-on-rag-with-langchain/try-my-hand/.venv/lib/python3.12/site-packages (from langchain-core<2.0.0,>=1.0.0->langchain) (1.33)\n",
      "Requirement already satisfied: langsmith<1.0.0,>=0.3.45 in /home/hoge/handson/hands-on-rag-with-langchain/try-my-hand/.venv/lib/python3.12/site-packages (from langchain-core<2.0.0,>=1.0.0->langchain) (0.4.38)\n",
      "Requirement already satisfied: packaging<26.0.0,>=23.2.0 in /home/hoge/handson/hands-on-rag-with-langchain/try-my-hand/.venv/lib/python3.12/site-packages (from langchain-core<2.0.0,>=1.0.0->langchain) (25.0)\n",
      "Requirement already satisfied: pyyaml<7.0.0,>=5.3.0 in /home/hoge/handson/hands-on-rag-with-langchain/try-my-hand/.venv/lib/python3.12/site-packages (from langchain-core<2.0.0,>=1.0.0->langchain) (6.0.3)\n",
      "Requirement already satisfied: tenacity!=8.4.0,<10.0.0,>=8.1.0 in /home/hoge/handson/hands-on-rag-with-langchain/try-my-hand/.venv/lib/python3.12/site-packages (from langchain-core<2.0.0,>=1.0.0->langchain) (9.1.2)\n",
      "Requirement already satisfied: typing-extensions<5.0.0,>=4.7.0 in /home/hoge/handson/hands-on-rag-with-langchain/try-my-hand/.venv/lib/python3.12/site-packages (from langchain-core<2.0.0,>=1.0.0->langchain) (4.15.0)\n",
      "Requirement already satisfied: langgraph-checkpoint<4.0.0,>=2.1.0 in /home/hoge/handson/hands-on-rag-with-langchain/try-my-hand/.venv/lib/python3.12/site-packages (from langgraph<1.1.0,>=1.0.0->langchain) (3.0.0)\n",
      "Requirement already satisfied: langgraph-prebuilt<1.1.0,>=1.0.0 in /home/hoge/handson/hands-on-rag-with-langchain/try-my-hand/.venv/lib/python3.12/site-packages (from langgraph<1.1.0,>=1.0.0->langchain) (1.0.1)\n",
      "Requirement already satisfied: langgraph-sdk<0.3.0,>=0.2.2 in /home/hoge/handson/hands-on-rag-with-langchain/try-my-hand/.venv/lib/python3.12/site-packages (from langgraph<1.1.0,>=1.0.0->langchain) (0.2.9)\n",
      "Requirement already satisfied: xxhash>=3.5.0 in /home/hoge/handson/hands-on-rag-with-langchain/try-my-hand/.venv/lib/python3.12/site-packages (from langgraph<1.1.0,>=1.0.0->langchain) (3.6.0)\n",
      "Requirement already satisfied: annotated-types>=0.6.0 in /home/hoge/handson/hands-on-rag-with-langchain/try-my-hand/.venv/lib/python3.12/site-packages (from pydantic<3.0.0,>=2.7.4->langchain) (0.7.0)\n",
      "Requirement already satisfied: pydantic-core==2.33.2 in /home/hoge/handson/hands-on-rag-with-langchain/try-my-hand/.venv/lib/python3.12/site-packages (from pydantic<3.0.0,>=2.7.4->langchain) (2.33.2)\n",
      "Requirement already satisfied: typing-inspection>=0.4.0 in /home/hoge/handson/hands-on-rag-with-langchain/try-my-hand/.venv/lib/python3.12/site-packages (from pydantic<3.0.0,>=2.7.4->langchain) (0.4.2)\n",
      "Requirement already satisfied: jsonpointer>=1.9 in /home/hoge/handson/hands-on-rag-with-langchain/try-my-hand/.venv/lib/python3.12/site-packages (from jsonpatch<2.0.0,>=1.33.0->langchain-core<2.0.0,>=1.0.0->langchain) (3.0.0)\n",
      "Requirement already satisfied: ormsgpack>=1.10.0 in /home/hoge/handson/hands-on-rag-with-langchain/try-my-hand/.venv/lib/python3.12/site-packages (from langgraph-checkpoint<4.0.0,>=2.1.0->langgraph<1.1.0,>=1.0.0->langchain) (1.11.0)\n",
      "Requirement already satisfied: httpx>=0.25.2 in /home/hoge/handson/hands-on-rag-with-langchain/try-my-hand/.venv/lib/python3.12/site-packages (from langgraph-sdk<0.3.0,>=0.2.2->langgraph<1.1.0,>=1.0.0->langchain) (0.28.1)\n",
      "Requirement already satisfied: orjson>=3.10.1 in /home/hoge/handson/hands-on-rag-with-langchain/try-my-hand/.venv/lib/python3.12/site-packages (from langgraph-sdk<0.3.0,>=0.2.2->langgraph<1.1.0,>=1.0.0->langchain) (3.11.4)\n",
      "Requirement already satisfied: requests-toolbelt>=1.0.0 in /home/hoge/handson/hands-on-rag-with-langchain/try-my-hand/.venv/lib/python3.12/site-packages (from langsmith<1.0.0,>=0.3.45->langchain-core<2.0.0,>=1.0.0->langchain) (1.0.0)\n",
      "Requirement already satisfied: requests>=2.0.0 in /home/hoge/handson/hands-on-rag-with-langchain/try-my-hand/.venv/lib/python3.12/site-packages (from langsmith<1.0.0,>=0.3.45->langchain-core<2.0.0,>=1.0.0->langchain) (2.32.5)\n",
      "Requirement already satisfied: zstandard>=0.23.0 in /home/hoge/handson/hands-on-rag-with-langchain/try-my-hand/.venv/lib/python3.12/site-packages (from langsmith<1.0.0,>=0.3.45->langchain-core<2.0.0,>=1.0.0->langchain) (0.25.0)\n",
      "Requirement already satisfied: anyio in /home/hoge/handson/hands-on-rag-with-langchain/try-my-hand/.venv/lib/python3.12/site-packages (from httpx>=0.25.2->langgraph-sdk<0.3.0,>=0.2.2->langgraph<1.1.0,>=1.0.0->langchain) (4.11.0)\n",
      "Requirement already satisfied: certifi in /home/hoge/handson/hands-on-rag-with-langchain/try-my-hand/.venv/lib/python3.12/site-packages (from httpx>=0.25.2->langgraph-sdk<0.3.0,>=0.2.2->langgraph<1.1.0,>=1.0.0->langchain) (2025.10.5)\n",
      "Requirement already satisfied: httpcore==1.* in /home/hoge/handson/hands-on-rag-with-langchain/try-my-hand/.venv/lib/python3.12/site-packages (from httpx>=0.25.2->langgraph-sdk<0.3.0,>=0.2.2->langgraph<1.1.0,>=1.0.0->langchain) (1.0.9)\n",
      "Requirement already satisfied: idna in /home/hoge/handson/hands-on-rag-with-langchain/try-my-hand/.venv/lib/python3.12/site-packages (from httpx>=0.25.2->langgraph-sdk<0.3.0,>=0.2.2->langgraph<1.1.0,>=1.0.0->langchain) (3.11)\n",
      "Requirement already satisfied: h11>=0.16 in /home/hoge/handson/hands-on-rag-with-langchain/try-my-hand/.venv/lib/python3.12/site-packages (from httpcore==1.*->httpx>=0.25.2->langgraph-sdk<0.3.0,>=0.2.2->langgraph<1.1.0,>=1.0.0->langchain) (0.16.0)\n",
      "Requirement already satisfied: charset_normalizer<4,>=2 in /home/hoge/handson/hands-on-rag-with-langchain/try-my-hand/.venv/lib/python3.12/site-packages (from requests>=2.0.0->langsmith<1.0.0,>=0.3.45->langchain-core<2.0.0,>=1.0.0->langchain) (3.4.4)\n",
      "Requirement already satisfied: urllib3<3,>=1.21.1 in /home/hoge/handson/hands-on-rag-with-langchain/try-my-hand/.venv/lib/python3.12/site-packages (from requests>=2.0.0->langsmith<1.0.0,>=0.3.45->langchain-core<2.0.0,>=1.0.0->langchain) (1.26.20)\n",
      "Requirement already satisfied: sniffio>=1.1 in /home/hoge/handson/hands-on-rag-with-langchain/try-my-hand/.venv/lib/python3.12/site-packages (from anyio->httpx>=0.25.2->langgraph-sdk<0.3.0,>=0.2.2->langgraph<1.1.0,>=1.0.0->langchain) (1.3.1)\n",
      "Requirement already satisfied: langchain-huggingface in /home/hoge/handson/hands-on-rag-with-langchain/try-my-hand/.venv/lib/python3.12/site-packages (1.0.0)\n",
      "Requirement already satisfied: huggingface-hub<1.0.0,>=0.33.4 in /home/hoge/handson/hands-on-rag-with-langchain/try-my-hand/.venv/lib/python3.12/site-packages (from langchain-huggingface) (0.36.0)\n",
      "Requirement already satisfied: langchain-core<2.0.0,>=1.0.0 in /home/hoge/handson/hands-on-rag-with-langchain/try-my-hand/.venv/lib/python3.12/site-packages (from langchain-huggingface) (1.0.1)\n",
      "Requirement already satisfied: tokenizers<1.0.0,>=0.19.1 in /home/hoge/handson/hands-on-rag-with-langchain/try-my-hand/.venv/lib/python3.12/site-packages (from langchain-huggingface) (0.21.4)\n",
      "Requirement already satisfied: filelock in /home/hoge/handson/hands-on-rag-with-langchain/try-my-hand/.venv/lib/python3.12/site-packages (from huggingface-hub<1.0.0,>=0.33.4->langchain-huggingface) (3.20.0)\n",
      "Requirement already satisfied: fsspec>=2023.5.0 in /home/hoge/handson/hands-on-rag-with-langchain/try-my-hand/.venv/lib/python3.12/site-packages (from huggingface-hub<1.0.0,>=0.33.4->langchain-huggingface) (2025.9.0)\n",
      "Requirement already satisfied: packaging>=20.9 in /home/hoge/handson/hands-on-rag-with-langchain/try-my-hand/.venv/lib/python3.12/site-packages (from huggingface-hub<1.0.0,>=0.33.4->langchain-huggingface) (25.0)\n",
      "Requirement already satisfied: pyyaml>=5.1 in /home/hoge/handson/hands-on-rag-with-langchain/try-my-hand/.venv/lib/python3.12/site-packages (from huggingface-hub<1.0.0,>=0.33.4->langchain-huggingface) (6.0.3)\n",
      "Requirement already satisfied: requests in /home/hoge/handson/hands-on-rag-with-langchain/try-my-hand/.venv/lib/python3.12/site-packages (from huggingface-hub<1.0.0,>=0.33.4->langchain-huggingface) (2.32.5)\n",
      "Requirement already satisfied: tqdm>=4.42.1 in /home/hoge/handson/hands-on-rag-with-langchain/try-my-hand/.venv/lib/python3.12/site-packages (from huggingface-hub<1.0.0,>=0.33.4->langchain-huggingface) (4.67.1)\n",
      "Requirement already satisfied: typing-extensions>=3.7.4.3 in /home/hoge/handson/hands-on-rag-with-langchain/try-my-hand/.venv/lib/python3.12/site-packages (from huggingface-hub<1.0.0,>=0.33.4->langchain-huggingface) (4.15.0)\n",
      "Requirement already satisfied: hf-xet<2.0.0,>=1.1.3 in /home/hoge/handson/hands-on-rag-with-langchain/try-my-hand/.venv/lib/python3.12/site-packages (from huggingface-hub<1.0.0,>=0.33.4->langchain-huggingface) (1.2.0)\n",
      "Requirement already satisfied: jsonpatch<2.0.0,>=1.33.0 in /home/hoge/handson/hands-on-rag-with-langchain/try-my-hand/.venv/lib/python3.12/site-packages (from langchain-core<2.0.0,>=1.0.0->langchain-huggingface) (1.33)\n",
      "Requirement already satisfied: langsmith<1.0.0,>=0.3.45 in /home/hoge/handson/hands-on-rag-with-langchain/try-my-hand/.venv/lib/python3.12/site-packages (from langchain-core<2.0.0,>=1.0.0->langchain-huggingface) (0.4.38)\n",
      "Requirement already satisfied: pydantic<3.0.0,>=2.7.4 in /home/hoge/handson/hands-on-rag-with-langchain/try-my-hand/.venv/lib/python3.12/site-packages (from langchain-core<2.0.0,>=1.0.0->langchain-huggingface) (2.11.10)\n",
      "Requirement already satisfied: tenacity!=8.4.0,<10.0.0,>=8.1.0 in /home/hoge/handson/hands-on-rag-with-langchain/try-my-hand/.venv/lib/python3.12/site-packages (from langchain-core<2.0.0,>=1.0.0->langchain-huggingface) (9.1.2)\n",
      "Requirement already satisfied: jsonpointer>=1.9 in /home/hoge/handson/hands-on-rag-with-langchain/try-my-hand/.venv/lib/python3.12/site-packages (from jsonpatch<2.0.0,>=1.33.0->langchain-core<2.0.0,>=1.0.0->langchain-huggingface) (3.0.0)\n",
      "Requirement already satisfied: httpx<1,>=0.23.0 in /home/hoge/handson/hands-on-rag-with-langchain/try-my-hand/.venv/lib/python3.12/site-packages (from langsmith<1.0.0,>=0.3.45->langchain-core<2.0.0,>=1.0.0->langchain-huggingface) (0.28.1)\n",
      "Requirement already satisfied: orjson>=3.9.14 in /home/hoge/handson/hands-on-rag-with-langchain/try-my-hand/.venv/lib/python3.12/site-packages (from langsmith<1.0.0,>=0.3.45->langchain-core<2.0.0,>=1.0.0->langchain-huggingface) (3.11.4)\n",
      "Requirement already satisfied: requests-toolbelt>=1.0.0 in /home/hoge/handson/hands-on-rag-with-langchain/try-my-hand/.venv/lib/python3.12/site-packages (from langsmith<1.0.0,>=0.3.45->langchain-core<2.0.0,>=1.0.0->langchain-huggingface) (1.0.0)\n",
      "Requirement already satisfied: zstandard>=0.23.0 in /home/hoge/handson/hands-on-rag-with-langchain/try-my-hand/.venv/lib/python3.12/site-packages (from langsmith<1.0.0,>=0.3.45->langchain-core<2.0.0,>=1.0.0->langchain-huggingface) (0.25.0)\n",
      "Requirement already satisfied: annotated-types>=0.6.0 in /home/hoge/handson/hands-on-rag-with-langchain/try-my-hand/.venv/lib/python3.12/site-packages (from pydantic<3.0.0,>=2.7.4->langchain-core<2.0.0,>=1.0.0->langchain-huggingface) (0.7.0)\n",
      "Requirement already satisfied: pydantic-core==2.33.2 in /home/hoge/handson/hands-on-rag-with-langchain/try-my-hand/.venv/lib/python3.12/site-packages (from pydantic<3.0.0,>=2.7.4->langchain-core<2.0.0,>=1.0.0->langchain-huggingface) (2.33.2)\n",
      "Requirement already satisfied: typing-inspection>=0.4.0 in /home/hoge/handson/hands-on-rag-with-langchain/try-my-hand/.venv/lib/python3.12/site-packages (from pydantic<3.0.0,>=2.7.4->langchain-core<2.0.0,>=1.0.0->langchain-huggingface) (0.4.2)\n",
      "Requirement already satisfied: charset_normalizer<4,>=2 in /home/hoge/handson/hands-on-rag-with-langchain/try-my-hand/.venv/lib/python3.12/site-packages (from requests->huggingface-hub<1.0.0,>=0.33.4->langchain-huggingface) (3.4.4)\n",
      "Requirement already satisfied: idna<4,>=2.5 in /home/hoge/handson/hands-on-rag-with-langchain/try-my-hand/.venv/lib/python3.12/site-packages (from requests->huggingface-hub<1.0.0,>=0.33.4->langchain-huggingface) (3.11)\n",
      "Requirement already satisfied: urllib3<3,>=1.21.1 in /home/hoge/handson/hands-on-rag-with-langchain/try-my-hand/.venv/lib/python3.12/site-packages (from requests->huggingface-hub<1.0.0,>=0.33.4->langchain-huggingface) (1.26.20)\n",
      "Requirement already satisfied: certifi>=2017.4.17 in /home/hoge/handson/hands-on-rag-with-langchain/try-my-hand/.venv/lib/python3.12/site-packages (from requests->huggingface-hub<1.0.0,>=0.33.4->langchain-huggingface) (2025.10.5)\n",
      "Requirement already satisfied: anyio in /home/hoge/handson/hands-on-rag-with-langchain/try-my-hand/.venv/lib/python3.12/site-packages (from httpx<1,>=0.23.0->langsmith<1.0.0,>=0.3.45->langchain-core<2.0.0,>=1.0.0->langchain-huggingface) (4.11.0)\n",
      "Requirement already satisfied: httpcore==1.* in /home/hoge/handson/hands-on-rag-with-langchain/try-my-hand/.venv/lib/python3.12/site-packages (from httpx<1,>=0.23.0->langsmith<1.0.0,>=0.3.45->langchain-core<2.0.0,>=1.0.0->langchain-huggingface) (1.0.9)\n",
      "Requirement already satisfied: h11>=0.16 in /home/hoge/handson/hands-on-rag-with-langchain/try-my-hand/.venv/lib/python3.12/site-packages (from httpcore==1.*->httpx<1,>=0.23.0->langsmith<1.0.0,>=0.3.45->langchain-core<2.0.0,>=1.0.0->langchain-huggingface) (0.16.0)\n",
      "Requirement already satisfied: sniffio>=1.1 in /home/hoge/handson/hands-on-rag-with-langchain/try-my-hand/.venv/lib/python3.12/site-packages (from anyio->httpx<1,>=0.23.0->langsmith<1.0.0,>=0.3.45->langchain-core<2.0.0,>=1.0.0->langchain-huggingface) (1.3.1)\n",
      "Requirement already satisfied: langchain-milvus in /home/hoge/handson/hands-on-rag-with-langchain/try-my-hand/.venv/lib/python3.12/site-packages (0.2.2)\n",
      "Requirement already satisfied: langchain-core>=1.0.0 in /home/hoge/handson/hands-on-rag-with-langchain/try-my-hand/.venv/lib/python3.12/site-packages (from langchain-milvus) (1.0.1)\n",
      "Requirement already satisfied: pymilvus<3.0,>=2.5.7 in /home/hoge/handson/hands-on-rag-with-langchain/try-my-hand/.venv/lib/python3.12/site-packages (from langchain-milvus) (2.6.2)\n",
      "Requirement already satisfied: jsonpatch<2.0.0,>=1.33.0 in /home/hoge/handson/hands-on-rag-with-langchain/try-my-hand/.venv/lib/python3.12/site-packages (from langchain-core>=1.0.0->langchain-milvus) (1.33)\n",
      "Requirement already satisfied: langsmith<1.0.0,>=0.3.45 in /home/hoge/handson/hands-on-rag-with-langchain/try-my-hand/.venv/lib/python3.12/site-packages (from langchain-core>=1.0.0->langchain-milvus) (0.4.38)\n",
      "Requirement already satisfied: packaging<26.0.0,>=23.2.0 in /home/hoge/handson/hands-on-rag-with-langchain/try-my-hand/.venv/lib/python3.12/site-packages (from langchain-core>=1.0.0->langchain-milvus) (25.0)\n",
      "Requirement already satisfied: pydantic<3.0.0,>=2.7.4 in /home/hoge/handson/hands-on-rag-with-langchain/try-my-hand/.venv/lib/python3.12/site-packages (from langchain-core>=1.0.0->langchain-milvus) (2.11.10)\n",
      "Requirement already satisfied: pyyaml<7.0.0,>=5.3.0 in /home/hoge/handson/hands-on-rag-with-langchain/try-my-hand/.venv/lib/python3.12/site-packages (from langchain-core>=1.0.0->langchain-milvus) (6.0.3)\n",
      "Requirement already satisfied: tenacity!=8.4.0,<10.0.0,>=8.1.0 in /home/hoge/handson/hands-on-rag-with-langchain/try-my-hand/.venv/lib/python3.12/site-packages (from langchain-core>=1.0.0->langchain-milvus) (9.1.2)\n",
      "Requirement already satisfied: typing-extensions<5.0.0,>=4.7.0 in /home/hoge/handson/hands-on-rag-with-langchain/try-my-hand/.venv/lib/python3.12/site-packages (from langchain-core>=1.0.0->langchain-milvus) (4.15.0)\n",
      "Requirement already satisfied: setuptools>69 in /home/hoge/handson/hands-on-rag-with-langchain/try-my-hand/.venv/lib/python3.12/site-packages (from pymilvus<3.0,>=2.5.7->langchain-milvus) (80.9.0)\n",
      "Requirement already satisfied: grpcio!=1.68.0,!=1.68.1,!=1.69.0,!=1.70.0,!=1.70.1,!=1.71.0,!=1.72.1,!=1.73.0,>=1.66.2 in /home/hoge/handson/hands-on-rag-with-langchain/try-my-hand/.venv/lib/python3.12/site-packages (from pymilvus<3.0,>=2.5.7->langchain-milvus) (1.76.0)\n",
      "Requirement already satisfied: protobuf>=5.27.2 in /home/hoge/handson/hands-on-rag-with-langchain/try-my-hand/.venv/lib/python3.12/site-packages (from pymilvus<3.0,>=2.5.7->langchain-milvus) (6.33.0)\n",
      "Requirement already satisfied: python-dotenv<2.0.0,>=1.0.1 in /home/hoge/handson/hands-on-rag-with-langchain/try-my-hand/.venv/lib/python3.12/site-packages (from pymilvus<3.0,>=2.5.7->langchain-milvus) (1.1.1)\n",
      "Requirement already satisfied: ujson>=2.0.0 in /home/hoge/handson/hands-on-rag-with-langchain/try-my-hand/.venv/lib/python3.12/site-packages (from pymilvus<3.0,>=2.5.7->langchain-milvus) (5.11.0)\n",
      "Requirement already satisfied: pandas>=1.2.4 in /home/hoge/handson/hands-on-rag-with-langchain/try-my-hand/.venv/lib/python3.12/site-packages (from pymilvus<3.0,>=2.5.7->langchain-milvus) (2.3.3)\n",
      "Requirement already satisfied: jsonpointer>=1.9 in /home/hoge/handson/hands-on-rag-with-langchain/try-my-hand/.venv/lib/python3.12/site-packages (from jsonpatch<2.0.0,>=1.33.0->langchain-core>=1.0.0->langchain-milvus) (3.0.0)\n",
      "Requirement already satisfied: httpx<1,>=0.23.0 in /home/hoge/handson/hands-on-rag-with-langchain/try-my-hand/.venv/lib/python3.12/site-packages (from langsmith<1.0.0,>=0.3.45->langchain-core>=1.0.0->langchain-milvus) (0.28.1)\n",
      "Requirement already satisfied: orjson>=3.9.14 in /home/hoge/handson/hands-on-rag-with-langchain/try-my-hand/.venv/lib/python3.12/site-packages (from langsmith<1.0.0,>=0.3.45->langchain-core>=1.0.0->langchain-milvus) (3.11.4)\n",
      "Requirement already satisfied: requests-toolbelt>=1.0.0 in /home/hoge/handson/hands-on-rag-with-langchain/try-my-hand/.venv/lib/python3.12/site-packages (from langsmith<1.0.0,>=0.3.45->langchain-core>=1.0.0->langchain-milvus) (1.0.0)\n",
      "Requirement already satisfied: requests>=2.0.0 in /home/hoge/handson/hands-on-rag-with-langchain/try-my-hand/.venv/lib/python3.12/site-packages (from langsmith<1.0.0,>=0.3.45->langchain-core>=1.0.0->langchain-milvus) (2.32.5)\n",
      "Requirement already satisfied: zstandard>=0.23.0 in /home/hoge/handson/hands-on-rag-with-langchain/try-my-hand/.venv/lib/python3.12/site-packages (from langsmith<1.0.0,>=0.3.45->langchain-core>=1.0.0->langchain-milvus) (0.25.0)\n",
      "Requirement already satisfied: numpy>=1.26.0 in /home/hoge/handson/hands-on-rag-with-langchain/try-my-hand/.venv/lib/python3.12/site-packages (from pandas>=1.2.4->pymilvus<3.0,>=2.5.7->langchain-milvus) (2.2.6)\n",
      "Requirement already satisfied: python-dateutil>=2.8.2 in /home/hoge/handson/hands-on-rag-with-langchain/try-my-hand/.venv/lib/python3.12/site-packages (from pandas>=1.2.4->pymilvus<3.0,>=2.5.7->langchain-milvus) (2.9.0.post0)\n",
      "Requirement already satisfied: pytz>=2020.1 in /home/hoge/handson/hands-on-rag-with-langchain/try-my-hand/.venv/lib/python3.12/site-packages (from pandas>=1.2.4->pymilvus<3.0,>=2.5.7->langchain-milvus) (2025.2)\n",
      "Requirement already satisfied: tzdata>=2022.7 in /home/hoge/handson/hands-on-rag-with-langchain/try-my-hand/.venv/lib/python3.12/site-packages (from pandas>=1.2.4->pymilvus<3.0,>=2.5.7->langchain-milvus) (2025.2)\n",
      "Requirement already satisfied: annotated-types>=0.6.0 in /home/hoge/handson/hands-on-rag-with-langchain/try-my-hand/.venv/lib/python3.12/site-packages (from pydantic<3.0.0,>=2.7.4->langchain-core>=1.0.0->langchain-milvus) (0.7.0)\n",
      "Requirement already satisfied: pydantic-core==2.33.2 in /home/hoge/handson/hands-on-rag-with-langchain/try-my-hand/.venv/lib/python3.12/site-packages (from pydantic<3.0.0,>=2.7.4->langchain-core>=1.0.0->langchain-milvus) (2.33.2)\n",
      "Requirement already satisfied: typing-inspection>=0.4.0 in /home/hoge/handson/hands-on-rag-with-langchain/try-my-hand/.venv/lib/python3.12/site-packages (from pydantic<3.0.0,>=2.7.4->langchain-core>=1.0.0->langchain-milvus) (0.4.2)\n",
      "Requirement already satisfied: anyio in /home/hoge/handson/hands-on-rag-with-langchain/try-my-hand/.venv/lib/python3.12/site-packages (from httpx<1,>=0.23.0->langsmith<1.0.0,>=0.3.45->langchain-core>=1.0.0->langchain-milvus) (4.11.0)\n",
      "Requirement already satisfied: certifi in /home/hoge/handson/hands-on-rag-with-langchain/try-my-hand/.venv/lib/python3.12/site-packages (from httpx<1,>=0.23.0->langsmith<1.0.0,>=0.3.45->langchain-core>=1.0.0->langchain-milvus) (2025.10.5)\n",
      "Requirement already satisfied: httpcore==1.* in /home/hoge/handson/hands-on-rag-with-langchain/try-my-hand/.venv/lib/python3.12/site-packages (from httpx<1,>=0.23.0->langsmith<1.0.0,>=0.3.45->langchain-core>=1.0.0->langchain-milvus) (1.0.9)\n",
      "Requirement already satisfied: idna in /home/hoge/handson/hands-on-rag-with-langchain/try-my-hand/.venv/lib/python3.12/site-packages (from httpx<1,>=0.23.0->langsmith<1.0.0,>=0.3.45->langchain-core>=1.0.0->langchain-milvus) (3.11)\n",
      "Requirement already satisfied: h11>=0.16 in /home/hoge/handson/hands-on-rag-with-langchain/try-my-hand/.venv/lib/python3.12/site-packages (from httpcore==1.*->httpx<1,>=0.23.0->langsmith<1.0.0,>=0.3.45->langchain-core>=1.0.0->langchain-milvus) (0.16.0)\n",
      "Requirement already satisfied: six>=1.5 in /home/hoge/handson/hands-on-rag-with-langchain/try-my-hand/.venv/lib/python3.12/site-packages (from python-dateutil>=2.8.2->pandas>=1.2.4->pymilvus<3.0,>=2.5.7->langchain-milvus) (1.17.0)\n",
      "Requirement already satisfied: charset_normalizer<4,>=2 in /home/hoge/handson/hands-on-rag-with-langchain/try-my-hand/.venv/lib/python3.12/site-packages (from requests>=2.0.0->langsmith<1.0.0,>=0.3.45->langchain-core>=1.0.0->langchain-milvus) (3.4.4)\n",
      "Requirement already satisfied: urllib3<3,>=1.21.1 in /home/hoge/handson/hands-on-rag-with-langchain/try-my-hand/.venv/lib/python3.12/site-packages (from requests>=2.0.0->langsmith<1.0.0,>=0.3.45->langchain-core>=1.0.0->langchain-milvus) (1.26.20)\n",
      "Requirement already satisfied: sniffio>=1.1 in /home/hoge/handson/hands-on-rag-with-langchain/try-my-hand/.venv/lib/python3.12/site-packages (from anyio->httpx<1,>=0.23.0->langsmith<1.0.0,>=0.3.45->langchain-core>=1.0.0->langchain-milvus) (1.3.1)\n",
      "Requirement already satisfied: sentence-transformers in /home/hoge/handson/hands-on-rag-with-langchain/try-my-hand/.venv/lib/python3.12/site-packages (5.1.2)\n",
      "Requirement already satisfied: transformers<5.0.0,>=4.41.0 in /home/hoge/handson/hands-on-rag-with-langchain/try-my-hand/.venv/lib/python3.12/site-packages (from sentence-transformers) (4.55.4)\n",
      "Requirement already satisfied: tqdm in /home/hoge/handson/hands-on-rag-with-langchain/try-my-hand/.venv/lib/python3.12/site-packages (from sentence-transformers) (4.67.1)\n",
      "Requirement already satisfied: torch>=1.11.0 in /home/hoge/handson/hands-on-rag-with-langchain/try-my-hand/.venv/lib/python3.12/site-packages (from sentence-transformers) (2.9.0)\n",
      "Requirement already satisfied: scikit-learn in /home/hoge/handson/hands-on-rag-with-langchain/try-my-hand/.venv/lib/python3.12/site-packages (from sentence-transformers) (1.7.2)\n",
      "Requirement already satisfied: scipy in /home/hoge/handson/hands-on-rag-with-langchain/try-my-hand/.venv/lib/python3.12/site-packages (from sentence-transformers) (1.16.2)\n",
      "Requirement already satisfied: huggingface-hub>=0.20.0 in /home/hoge/handson/hands-on-rag-with-langchain/try-my-hand/.venv/lib/python3.12/site-packages (from sentence-transformers) (0.36.0)\n",
      "Requirement already satisfied: Pillow in /home/hoge/handson/hands-on-rag-with-langchain/try-my-hand/.venv/lib/python3.12/site-packages (from sentence-transformers) (11.3.0)\n",
      "Requirement already satisfied: typing_extensions>=4.5.0 in /home/hoge/handson/hands-on-rag-with-langchain/try-my-hand/.venv/lib/python3.12/site-packages (from sentence-transformers) (4.15.0)\n",
      "Requirement already satisfied: filelock in /home/hoge/handson/hands-on-rag-with-langchain/try-my-hand/.venv/lib/python3.12/site-packages (from huggingface-hub>=0.20.0->sentence-transformers) (3.20.0)\n",
      "Requirement already satisfied: fsspec>=2023.5.0 in /home/hoge/handson/hands-on-rag-with-langchain/try-my-hand/.venv/lib/python3.12/site-packages (from huggingface-hub>=0.20.0->sentence-transformers) (2025.9.0)\n",
      "Requirement already satisfied: packaging>=20.9 in /home/hoge/handson/hands-on-rag-with-langchain/try-my-hand/.venv/lib/python3.12/site-packages (from huggingface-hub>=0.20.0->sentence-transformers) (25.0)\n",
      "Requirement already satisfied: pyyaml>=5.1 in /home/hoge/handson/hands-on-rag-with-langchain/try-my-hand/.venv/lib/python3.12/site-packages (from huggingface-hub>=0.20.0->sentence-transformers) (6.0.3)\n",
      "Requirement already satisfied: requests in /home/hoge/handson/hands-on-rag-with-langchain/try-my-hand/.venv/lib/python3.12/site-packages (from huggingface-hub>=0.20.0->sentence-transformers) (2.32.5)\n",
      "Requirement already satisfied: hf-xet<2.0.0,>=1.1.3 in /home/hoge/handson/hands-on-rag-with-langchain/try-my-hand/.venv/lib/python3.12/site-packages (from huggingface-hub>=0.20.0->sentence-transformers) (1.2.0)\n",
      "Requirement already satisfied: setuptools in /home/hoge/handson/hands-on-rag-with-langchain/try-my-hand/.venv/lib/python3.12/site-packages (from torch>=1.11.0->sentence-transformers) (80.9.0)\n",
      "Requirement already satisfied: sympy>=1.13.3 in /home/hoge/handson/hands-on-rag-with-langchain/try-my-hand/.venv/lib/python3.12/site-packages (from torch>=1.11.0->sentence-transformers) (1.14.0)\n",
      "Requirement already satisfied: networkx>=2.5.1 in /home/hoge/handson/hands-on-rag-with-langchain/try-my-hand/.venv/lib/python3.12/site-packages (from torch>=1.11.0->sentence-transformers) (3.4.2)\n",
      "Requirement already satisfied: jinja2 in /home/hoge/handson/hands-on-rag-with-langchain/try-my-hand/.venv/lib/python3.12/site-packages (from torch>=1.11.0->sentence-transformers) (3.1.6)\n",
      "Requirement already satisfied: nvidia-cuda-nvrtc-cu12==12.8.93 in /home/hoge/handson/hands-on-rag-with-langchain/try-my-hand/.venv/lib/python3.12/site-packages (from torch>=1.11.0->sentence-transformers) (12.8.93)\n",
      "Requirement already satisfied: nvidia-cuda-runtime-cu12==12.8.90 in /home/hoge/handson/hands-on-rag-with-langchain/try-my-hand/.venv/lib/python3.12/site-packages (from torch>=1.11.0->sentence-transformers) (12.8.90)\n",
      "Requirement already satisfied: nvidia-cuda-cupti-cu12==12.8.90 in /home/hoge/handson/hands-on-rag-with-langchain/try-my-hand/.venv/lib/python3.12/site-packages (from torch>=1.11.0->sentence-transformers) (12.8.90)\n",
      "Requirement already satisfied: nvidia-cudnn-cu12==9.10.2.21 in /home/hoge/handson/hands-on-rag-with-langchain/try-my-hand/.venv/lib/python3.12/site-packages (from torch>=1.11.0->sentence-transformers) (9.10.2.21)\n",
      "Requirement already satisfied: nvidia-cublas-cu12==12.8.4.1 in /home/hoge/handson/hands-on-rag-with-langchain/try-my-hand/.venv/lib/python3.12/site-packages (from torch>=1.11.0->sentence-transformers) (12.8.4.1)\n",
      "Requirement already satisfied: nvidia-cufft-cu12==11.3.3.83 in /home/hoge/handson/hands-on-rag-with-langchain/try-my-hand/.venv/lib/python3.12/site-packages (from torch>=1.11.0->sentence-transformers) (11.3.3.83)\n",
      "Requirement already satisfied: nvidia-curand-cu12==10.3.9.90 in /home/hoge/handson/hands-on-rag-with-langchain/try-my-hand/.venv/lib/python3.12/site-packages (from torch>=1.11.0->sentence-transformers) (10.3.9.90)\n",
      "Requirement already satisfied: nvidia-cusolver-cu12==11.7.3.90 in /home/hoge/handson/hands-on-rag-with-langchain/try-my-hand/.venv/lib/python3.12/site-packages (from torch>=1.11.0->sentence-transformers) (11.7.3.90)\n",
      "Requirement already satisfied: nvidia-cusparse-cu12==12.5.8.93 in /home/hoge/handson/hands-on-rag-with-langchain/try-my-hand/.venv/lib/python3.12/site-packages (from torch>=1.11.0->sentence-transformers) (12.5.8.93)\n",
      "Requirement already satisfied: nvidia-cusparselt-cu12==0.7.1 in /home/hoge/handson/hands-on-rag-with-langchain/try-my-hand/.venv/lib/python3.12/site-packages (from torch>=1.11.0->sentence-transformers) (0.7.1)\n",
      "Requirement already satisfied: nvidia-nccl-cu12==2.27.5 in /home/hoge/handson/hands-on-rag-with-langchain/try-my-hand/.venv/lib/python3.12/site-packages (from torch>=1.11.0->sentence-transformers) (2.27.5)\n",
      "Requirement already satisfied: nvidia-nvshmem-cu12==3.3.20 in /home/hoge/handson/hands-on-rag-with-langchain/try-my-hand/.venv/lib/python3.12/site-packages (from torch>=1.11.0->sentence-transformers) (3.3.20)\n",
      "Requirement already satisfied: nvidia-nvtx-cu12==12.8.90 in /home/hoge/handson/hands-on-rag-with-langchain/try-my-hand/.venv/lib/python3.12/site-packages (from torch>=1.11.0->sentence-transformers) (12.8.90)\n",
      "Requirement already satisfied: nvidia-nvjitlink-cu12==12.8.93 in /home/hoge/handson/hands-on-rag-with-langchain/try-my-hand/.venv/lib/python3.12/site-packages (from torch>=1.11.0->sentence-transformers) (12.8.93)\n",
      "Requirement already satisfied: nvidia-cufile-cu12==1.13.1.3 in /home/hoge/handson/hands-on-rag-with-langchain/try-my-hand/.venv/lib/python3.12/site-packages (from torch>=1.11.0->sentence-transformers) (1.13.1.3)\n",
      "Requirement already satisfied: triton==3.5.0 in /home/hoge/handson/hands-on-rag-with-langchain/try-my-hand/.venv/lib/python3.12/site-packages (from torch>=1.11.0->sentence-transformers) (3.5.0)\n",
      "Requirement already satisfied: numpy>=1.17 in /home/hoge/handson/hands-on-rag-with-langchain/try-my-hand/.venv/lib/python3.12/site-packages (from transformers<5.0.0,>=4.41.0->sentence-transformers) (2.2.6)\n",
      "Requirement already satisfied: regex!=2019.12.17 in /home/hoge/handson/hands-on-rag-with-langchain/try-my-hand/.venv/lib/python3.12/site-packages (from transformers<5.0.0,>=4.41.0->sentence-transformers) (2025.10.23)\n",
      "Requirement already satisfied: tokenizers<0.22,>=0.21 in /home/hoge/handson/hands-on-rag-with-langchain/try-my-hand/.venv/lib/python3.12/site-packages (from transformers<5.0.0,>=4.41.0->sentence-transformers) (0.21.4)\n",
      "Requirement already satisfied: safetensors>=0.4.3 in /home/hoge/handson/hands-on-rag-with-langchain/try-my-hand/.venv/lib/python3.12/site-packages (from transformers<5.0.0,>=4.41.0->sentence-transformers) (0.6.2)\n",
      "Requirement already satisfied: joblib>=1.2.0 in /home/hoge/handson/hands-on-rag-with-langchain/try-my-hand/.venv/lib/python3.12/site-packages (from scikit-learn->sentence-transformers) (1.5.2)\n",
      "Requirement already satisfied: threadpoolctl>=3.1.0 in /home/hoge/handson/hands-on-rag-with-langchain/try-my-hand/.venv/lib/python3.12/site-packages (from scikit-learn->sentence-transformers) (3.6.0)\n",
      "Requirement already satisfied: mpmath<1.4,>=1.1.0 in /home/hoge/handson/hands-on-rag-with-langchain/try-my-hand/.venv/lib/python3.12/site-packages (from sympy>=1.13.3->torch>=1.11.0->sentence-transformers) (1.3.0)\n",
      "Requirement already satisfied: MarkupSafe>=2.0 in /home/hoge/handson/hands-on-rag-with-langchain/try-my-hand/.venv/lib/python3.12/site-packages (from jinja2->torch>=1.11.0->sentence-transformers) (3.0.3)\n",
      "Requirement already satisfied: charset_normalizer<4,>=2 in /home/hoge/handson/hands-on-rag-with-langchain/try-my-hand/.venv/lib/python3.12/site-packages (from requests->huggingface-hub>=0.20.0->sentence-transformers) (3.4.4)\n",
      "Requirement already satisfied: idna<4,>=2.5 in /home/hoge/handson/hands-on-rag-with-langchain/try-my-hand/.venv/lib/python3.12/site-packages (from requests->huggingface-hub>=0.20.0->sentence-transformers) (3.11)\n",
      "Requirement already satisfied: urllib3<3,>=1.21.1 in /home/hoge/handson/hands-on-rag-with-langchain/try-my-hand/.venv/lib/python3.12/site-packages (from requests->huggingface-hub>=0.20.0->sentence-transformers) (1.26.20)\n",
      "Requirement already satisfied: certifi>=2017.4.17 in /home/hoge/handson/hands-on-rag-with-langchain/try-my-hand/.venv/lib/python3.12/site-packages (from requests->huggingface-hub>=0.20.0->sentence-transformers) (2025.10.5)\n",
      "Requirement already satisfied: ipywidgets in /home/hoge/handson/hands-on-rag-with-langchain/try-my-hand/.venv/lib/python3.12/site-packages (8.1.7)\n",
      "Requirement already satisfied: comm>=0.1.3 in /home/hoge/handson/hands-on-rag-with-langchain/try-my-hand/.venv/lib/python3.12/site-packages (from ipywidgets) (0.2.3)\n",
      "Requirement already satisfied: ipython>=6.1.0 in /home/hoge/handson/hands-on-rag-with-langchain/try-my-hand/.venv/lib/python3.12/site-packages (from ipywidgets) (9.6.0)\n",
      "Requirement already satisfied: traitlets>=4.3.1 in /home/hoge/handson/hands-on-rag-with-langchain/try-my-hand/.venv/lib/python3.12/site-packages (from ipywidgets) (5.14.3)\n",
      "Requirement already satisfied: widgetsnbextension~=4.0.14 in /home/hoge/handson/hands-on-rag-with-langchain/try-my-hand/.venv/lib/python3.12/site-packages (from ipywidgets) (4.0.14)\n",
      "Requirement already satisfied: jupyterlab_widgets~=3.0.15 in /home/hoge/handson/hands-on-rag-with-langchain/try-my-hand/.venv/lib/python3.12/site-packages (from ipywidgets) (3.0.15)\n",
      "Requirement already satisfied: decorator in /home/hoge/handson/hands-on-rag-with-langchain/try-my-hand/.venv/lib/python3.12/site-packages (from ipython>=6.1.0->ipywidgets) (5.2.1)\n",
      "Requirement already satisfied: ipython-pygments-lexers in /home/hoge/handson/hands-on-rag-with-langchain/try-my-hand/.venv/lib/python3.12/site-packages (from ipython>=6.1.0->ipywidgets) (1.1.1)\n",
      "Requirement already satisfied: jedi>=0.16 in /home/hoge/handson/hands-on-rag-with-langchain/try-my-hand/.venv/lib/python3.12/site-packages (from ipython>=6.1.0->ipywidgets) (0.19.2)\n",
      "Requirement already satisfied: matplotlib-inline in /home/hoge/handson/hands-on-rag-with-langchain/try-my-hand/.venv/lib/python3.12/site-packages (from ipython>=6.1.0->ipywidgets) (0.2.1)\n",
      "Requirement already satisfied: pexpect>4.3 in /home/hoge/handson/hands-on-rag-with-langchain/try-my-hand/.venv/lib/python3.12/site-packages (from ipython>=6.1.0->ipywidgets) (4.9.0)\n",
      "Requirement already satisfied: prompt_toolkit<3.1.0,>=3.0.41 in /home/hoge/handson/hands-on-rag-with-langchain/try-my-hand/.venv/lib/python3.12/site-packages (from ipython>=6.1.0->ipywidgets) (3.0.52)\n",
      "Requirement already satisfied: pygments>=2.4.0 in /home/hoge/handson/hands-on-rag-with-langchain/try-my-hand/.venv/lib/python3.12/site-packages (from ipython>=6.1.0->ipywidgets) (2.19.2)\n",
      "Requirement already satisfied: stack_data in /home/hoge/handson/hands-on-rag-with-langchain/try-my-hand/.venv/lib/python3.12/site-packages (from ipython>=6.1.0->ipywidgets) (0.6.3)\n",
      "Requirement already satisfied: parso<0.9.0,>=0.8.4 in /home/hoge/handson/hands-on-rag-with-langchain/try-my-hand/.venv/lib/python3.12/site-packages (from jedi>=0.16->ipython>=6.1.0->ipywidgets) (0.8.5)\n",
      "Requirement already satisfied: ptyprocess>=0.5 in /home/hoge/handson/hands-on-rag-with-langchain/try-my-hand/.venv/lib/python3.12/site-packages (from pexpect>4.3->ipython>=6.1.0->ipywidgets) (0.7.0)\n",
      "Requirement already satisfied: wcwidth in /home/hoge/handson/hands-on-rag-with-langchain/try-my-hand/.venv/lib/python3.12/site-packages (from prompt_toolkit<3.1.0,>=3.0.41->ipython>=6.1.0->ipywidgets) (0.2.14)\n",
      "Requirement already satisfied: executing>=1.2.0 in /home/hoge/handson/hands-on-rag-with-langchain/try-my-hand/.venv/lib/python3.12/site-packages (from stack_data->ipython>=6.1.0->ipywidgets) (2.2.1)\n",
      "Requirement already satisfied: asttokens>=2.1.0 in /home/hoge/handson/hands-on-rag-with-langchain/try-my-hand/.venv/lib/python3.12/site-packages (from stack_data->ipython>=6.1.0->ipywidgets) (3.0.0)\n",
      "Requirement already satisfied: pure-eval in /home/hoge/handson/hands-on-rag-with-langchain/try-my-hand/.venv/lib/python3.12/site-packages (from stack_data->ipython>=6.1.0->ipywidgets) (0.2.3)\n",
      "Requirement already satisfied: urllib3==1.26.20 in /home/hoge/handson/hands-on-rag-with-langchain/try-my-hand/.venv/lib/python3.12/site-packages (1.26.20)\n",
      "### FINISH (2025-10-26 22:41:58.268086 > duration = 15.11 sec) ###########\n"
     ]
    }
   ],
   "source": [
    "MyBanner.start()\n",
    "\n",
    "!python -V\n",
    "!pip install pandas\n",
    "!pip install openpyxl\n",
    "!pip install langchain\n",
    "!pip install langchain-huggingface\n",
    "!pip install langchain-milvus\n",
    "!pip install sentence-transformers\n",
    "\n",
    "!pip install ipywidgets\n",
    "!pip install urllib3==1.26.20\n",
    "\n",
    "MyBanner.finish()"
   ]
  },
  {
   "cell_type": "markdown",
   "id": "50310c4a-f1dc-468d-b2e8-4ebd3b5b3cea",
   "metadata": {},
   "source": [
    "### import\n",
    "本ステップの処理で依存するモジュールを読み込みます。"
   ]
  },
  {
   "cell_type": "code",
   "execution_count": 5,
   "id": "9e2e00b1-7100-4d5b-8243-9bbb377ee31a",
   "metadata": {},
   "outputs": [
    {
     "name": "stdout",
     "output_type": "stream",
     "text": [
      "### START (2025-10-26 22:41:58.274457) ###########\n",
      "### FINISH (2025-10-26 22:41:58.976061 > duration = 0.70 sec) ###########\n"
     ]
    }
   ],
   "source": [
    "MyBanner.start()\n",
    "\n",
    "import pandas as pd\n",
    "import os\n",
    "import json\n",
    "from langchain_core.documents import Document\n",
    "\n",
    "MyBanner.finish()"
   ]
  },
  {
   "cell_type": "markdown",
   "id": "0dd94e5f",
   "metadata": {},
   "source": [
    "## 1. 構造化データ読込"
   ]
  },
  {
   "cell_type": "markdown",
   "id": "4d3e8245",
   "metadata": {},
   "source": [
    "### 【準備】ExcelデータDF読込\n",
    "Excelファイルの全シートをDF(Pandas DataFrame)形式で読み込みます。"
   ]
  },
  {
   "cell_type": "code",
   "execution_count": 6,
   "id": "bfd3691b",
   "metadata": {},
   "outputs": [
    {
     "name": "stdout",
     "output_type": "stream",
     "text": [
      "### START (2025-10-26 22:41:58.981441) ###########\n",
      "file_path='../data/recurrent_navi_tyo.xlsx'\n",
      "collection_name='recurrent_navi_tyo'\n",
      "### FINISH (2025-10-26 22:41:59.192897 > duration = 0.21 sec) ###########\n"
     ]
    }
   ],
   "source": [
    "MyBanner.start()\n",
    "\n",
    "# load from all sheets and store them in df_list.\n",
    "file_path = EXCEL_FILE\n",
    "print(f\"{file_path=}\")\n",
    "\n",
    "df_list = []\n",
    "for sheet_name in pd.ExcelFile(file_path).sheet_names:\n",
    "    df = pd.read_excel(file_path, sheet_name=sheet_name)\n",
    "    df_list.append(df)\n",
    "\n",
    "# find the collection name from an excel file name\n",
    "collection_name = os.path.splitext(os.path.basename(file_path))[0]\n",
    "print(f\"{collection_name=}\")\n",
    "\n",
    "MyBanner.finish()"
   ]
  },
  {
   "cell_type": "markdown",
   "id": "1c3de0dd",
   "metadata": {},
   "source": [
    "## 2. Chunking"
   ]
  },
  {
   "cell_type": "markdown",
   "id": "a904bd3c-b93c-4953-8900-c62dbda23988",
   "metadata": {},
   "source": [
    "### 【準備】Cleansing\n",
    "ベクトルデータベースで類似検索の効率が上がるようにデータを整えます。\n",
    "- 'id'と'category'をメタ情報とするため、メタ情報として扱うカラムを該当のカラム名に置き換えます"
   ]
  },
  {
   "cell_type": "code",
   "execution_count": 7,
   "id": "611a93cd-78a8-4822-9ddf-950cc292fc53",
   "metadata": {},
   "outputs": [
    {
     "name": "stdout",
     "output_type": "stream",
     "text": [
      "### START (2025-10-26 22:41:59.197800) ###########\n",
      "\n",
      "Excel sheet name: my_sheet\n"
     ]
    },
    {
     "data": {
      "text/html": [
       "<div>\n",
       "<style scoped>\n",
       "    .dataframe tbody tr th:only-of-type {\n",
       "        vertical-align: middle;\n",
       "    }\n",
       "\n",
       "    .dataframe tbody tr th {\n",
       "        vertical-align: top;\n",
       "    }\n",
       "\n",
       "    .dataframe thead th {\n",
       "        text-align: right;\n",
       "    }\n",
       "</style>\n",
       "<table border=\"1\" class=\"dataframe\">\n",
       "  <thead>\n",
       "    <tr style=\"text-align: right;\">\n",
       "      <th></th>\n",
       "      <th>id</th>\n",
       "      <th>category</th>\n",
       "      <th>date</th>\n",
       "      <th>title</th>\n",
       "      <th>url</th>\n",
       "      <th>summary</th>\n",
       "      <th>場所</th>\n",
       "      <th>主催者</th>\n",
       "      <th>定員数</th>\n",
       "      <th>費用</th>\n",
       "      <th>申込期日</th>\n",
       "    </tr>\n",
       "  </thead>\n",
       "  <tbody>\n",
       "    <tr>\n",
       "      <th>0</th>\n",
       "      <td>138389</td>\n",
       "      <td>工学,対面講座</td>\n",
       "      <td>2025-02-15</td>\n",
       "      <td>2級管工事施工管理技士(一次・二次)受験対策</td>\n",
       "      <td>https://www.recurrent-navi.metro.tokyo.lg.jp/c...</td>\n",
       "      <td>２級管工事施工管理技士受験対策\\n(1)一般基礎、空調設備、衛生設備、施工管理\\n(2)施工...</td>\n",
       "      <td>多摩・島しょ部,北多摩エリア,昭島市</td>\n",
       "      <td>多摩職業能力開発センター</td>\n",
       "      <td>20名</td>\n",
       "      <td>3,200円</td>\n",
       "      <td>2025年1月10日</td>\n",
       "    </tr>\n",
       "    <tr>\n",
       "      <th>1</th>\n",
       "      <td>137784</td>\n",
       "      <td>工学,対面講座</td>\n",
       "      <td>2025-03-09</td>\n",
       "      <td>第三種電気主任技術者科目合格対策(法規)</td>\n",
       "      <td>https://www.recurrent-navi.metro.tokyo.lg.jp/c...</td>\n",
       "      <td>第三種電気主任技術者試験(法規)受験対策\\n電気事業法、電気設備技術基準、電気施設管理</td>\n",
       "      <td>多摩・島しょ部,昭島市</td>\n",
       "      <td>多摩職業能力開発センター八王子校</td>\n",
       "      <td>40名</td>\n",
       "      <td>1,600円</td>\n",
       "      <td>2025年1月10日</td>\n",
       "    </tr>\n",
       "    <tr>\n",
       "      <th>2</th>\n",
       "      <td>138428</td>\n",
       "      <td>工学,対面講座</td>\n",
       "      <td>2025-03-02</td>\n",
       "      <td>第二種電気工事士(実技) 【初級】</td>\n",
       "      <td>https://www.recurrent-navi.metro.tokyo.lg.jp/c...</td>\n",
       "      <td>電気基礎、電気図記号、図面の見方、電気工事実習、第二種電気工事士受験ポイント</td>\n",
       "      <td>多摩・島しょ部,北多摩エリア,府中市</td>\n",
       "      <td>多摩職業能力開発センター府中校</td>\n",
       "      <td>30名</td>\n",
       "      <td>6,500円</td>\n",
       "      <td>2025年1月10日</td>\n",
       "    </tr>\n",
       "    <tr>\n",
       "      <th>3</th>\n",
       "      <td>143983</td>\n",
       "      <td>最先端技術,対面講座</td>\n",
       "      <td>2025-03-01</td>\n",
       "      <td>Raspberry PI【初級】</td>\n",
       "      <td>https://www.recurrent-navi.metro.tokyo.lg.jp/c...</td>\n",
       "      <td>センサーによる信号を表示する一連の流れを理解し、実際に回路を作成する手順を習得する。</td>\n",
       "      <td>多摩・島しょ部,北多摩エリア,昭島市</td>\n",
       "      <td>多摩職業能力開発センター</td>\n",
       "      <td>10名</td>\n",
       "      <td>6,500円</td>\n",
       "      <td>2025年1月10日</td>\n",
       "    </tr>\n",
       "    <tr>\n",
       "      <th>4</th>\n",
       "      <td>111975</td>\n",
       "      <td>経済産業・社会,対面講座</td>\n",
       "      <td>2025-03-02</td>\n",
       "      <td>ホームページビルダーによるホームページ作成</td>\n",
       "      <td>https://www.recurrent-navi.metro.tokyo.lg.jp/c...</td>\n",
       "      <td>ホームページの基礎知識、Webサイトとトップページの作成および編集、リンクの設定、画像の作成...</td>\n",
       "      <td>多摩・島しょ部,北多摩エリア,府中市</td>\n",
       "      <td>多摩職業能力開発センター府中校</td>\n",
       "      <td>25名</td>\n",
       "      <td>6,500円</td>\n",
       "      <td>2025年1月10日</td>\n",
       "    </tr>\n",
       "  </tbody>\n",
       "</table>\n",
       "</div>"
      ],
      "text/plain": [
       "       id      category        date                   title  \\\n",
       "0  138389       工学,対面講座  2025-02-15  2級管工事施工管理技士(一次・二次)受験対策   \n",
       "1  137784       工学,対面講座  2025-03-09    第三種電気主任技術者科目合格対策(法規)   \n",
       "2  138428       工学,対面講座  2025-03-02       第二種電気工事士(実技) 【初級】   \n",
       "3  143983    最先端技術,対面講座  2025-03-01        Raspberry PI【初級】   \n",
       "4  111975  経済産業・社会,対面講座  2025-03-02   ホームページビルダーによるホームページ作成   \n",
       "\n",
       "                                                 url  \\\n",
       "0  https://www.recurrent-navi.metro.tokyo.lg.jp/c...   \n",
       "1  https://www.recurrent-navi.metro.tokyo.lg.jp/c...   \n",
       "2  https://www.recurrent-navi.metro.tokyo.lg.jp/c...   \n",
       "3  https://www.recurrent-navi.metro.tokyo.lg.jp/c...   \n",
       "4  https://www.recurrent-navi.metro.tokyo.lg.jp/c...   \n",
       "\n",
       "                                             summary                  場所  \\\n",
       "0  ２級管工事施工管理技士受験対策\\n(1)一般基礎、空調設備、衛生設備、施工管理\\n(2)施工...  多摩・島しょ部,北多摩エリア,昭島市   \n",
       "1        第三種電気主任技術者試験(法規)受験対策\\n電気事業法、電気設備技術基準、電気施設管理         多摩・島しょ部,昭島市   \n",
       "2             電気基礎、電気図記号、図面の見方、電気工事実習、第二種電気工事士受験ポイント  多摩・島しょ部,北多摩エリア,府中市   \n",
       "3         センサーによる信号を表示する一連の流れを理解し、実際に回路を作成する手順を習得する。  多摩・島しょ部,北多摩エリア,昭島市   \n",
       "4  ホームページの基礎知識、Webサイトとトップページの作成および編集、リンクの設定、画像の作成...  多摩・島しょ部,北多摩エリア,府中市   \n",
       "\n",
       "                主催者  定員数      費用        申込期日  \n",
       "0      多摩職業能力開発センター  20名  3,200円  2025年1月10日  \n",
       "1  多摩職業能力開発センター八王子校  40名  1,600円  2025年1月10日  \n",
       "2   多摩職業能力開発センター府中校  30名  6,500円  2025年1月10日  \n",
       "3      多摩職業能力開発センター  10名  6,500円  2025年1月10日  \n",
       "4   多摩職業能力開発センター府中校  25名  6,500円  2025年1月10日  "
      ]
     },
     "metadata": {},
     "output_type": "display_data"
    },
    {
     "name": "stdout",
     "output_type": "stream",
     "text": [
      "### FINISH (2025-10-26 22:41:59.212285 > duration = 0.01 sec) ###########\n"
     ]
    }
   ],
   "source": [
    "MyBanner.start()\n",
    "\n",
    "for index in range(len(df_list)):\n",
    "    df = df_list[index]\n",
    "    df = df.rename(columns=META_FIELDS)\n",
    "    df_list[index] = df\n",
    "    # Show the first 5 rows for each sheet\n",
    "    print(f\"\\nExcel sheet name: {sheet_name}\")\n",
    "    display(df.head())\n",
    "\n",
    "MyBanner.finish()"
   ]
  },
  {
   "cell_type": "markdown",
   "id": "5cf9645d-1bc2-4a04-97ea-3aeb08d2ba9f",
   "metadata": {},
   "source": [
    "### 【準備】JSON変換とメタ情報抽出\n",
    "LangChain Document形式の格納に向けてJSON形式に変換しメタ情報を抽出します。\n",
    "- DataFrameの行単位にセル列をフィールドとしたJSON形式に変換します\n",
    "- 1つのExcelファイルで全てのシートを集約して、セル情報のListを生成します\n",
    "- 'id'と’category'列を抜き出し、メタ情報のListを生成します"
   ]
  },
  {
   "cell_type": "code",
   "execution_count": 8,
   "id": "8adf2d9a",
   "metadata": {},
   "outputs": [
    {
     "name": "stdout",
     "output_type": "stream",
     "text": [
      "### START (2025-10-26 22:41:59.217928) ###########\n",
      "len(json_meta_list)=29\n",
      "len(json_content_list)=29\n",
      "\n",
      "* Meta-data (the first 5 rows):\n",
      "1 {'id': '138389', 'category': '工学,対面講座'}\n",
      "2 {'id': '137784', 'category': '工学,対面講座'}\n",
      "3 {'id': '138428', 'category': '工学,対面講座'}\n",
      "4 {'id': '143983', 'category': '最先端技術,対面講座'}\n",
      "5 {'id': '111975', 'category': '経済産業・社会,対面講座'}\n",
      "\n",
      "* Vectorization data (the first 5 rows):\n",
      "1 {'id': 138389, 'category': '工学,対面講座', 'date': '2025-02-15', 'title': '2級管工事施工管理技士(一次・二次)受験対策', 'url': 'https://www.recurrent-navi.metro.tokyo.lg.jp/course/138389', 'summary': '２級管工事施工管理技士受験対策\\n(1)一般基礎、空調設備、衛生設備、施工管理\\n(2)施工管理記述、空調設備記述、衛生設備記述、施工体験', '場所': '多摩・島しょ部,北多摩エリア,昭島市', '主催者': '多摩職業能力開発センター', '定員数': '20名', '費用': '3,200円', '申込期日': '2025年1月10日'}\n",
      "2 {'id': 137784, 'category': '工学,対面講座', 'date': '2025-03-09', 'title': '第三種電気主任技術者科目合格対策(法規)', 'url': 'https://www.recurrent-navi.metro.tokyo.lg.jp/course/137784', 'summary': '第三種電気主任技術者試験(法規)受験対策\\n電気事業法、電気設備技術基準、電気施設管理', '場所': '多摩・島しょ部,昭島市', '主催者': '多摩職業能力開発センター八王子校', '定員数': '40名', '費用': '1,600円', '申込期日': '2025年1月10日'}\n",
      "3 {'id': 138428, 'category': '工学,対面講座', 'date': '2025-03-02', 'title': '第二種電気工事士(実技) 【初級】', 'url': 'https://www.recurrent-navi.metro.tokyo.lg.jp/course/138428', 'summary': '電気基礎、電気図記号、図面の見方、電気工事実習、第二種電気工事士受験ポイント', '場所': '多摩・島しょ部,北多摩エリア,府中市', '主催者': '多摩職業能力開発センター府中校', '定員数': '30名', '費用': '6,500円', '申込期日': '2025年1月10日'}\n",
      "4 {'id': 143983, 'category': '最先端技術,対面講座', 'date': '2025-03-01', 'title': 'Raspberry PI【初級】', 'url': 'https://www.recurrent-navi.metro.tokyo.lg.jp/course/143983', 'summary': 'センサーによる信号を表示する一連の流れを理解し、実際に回路を作成する手順を習得する。', '場所': '多摩・島しょ部,北多摩エリア,昭島市', '主催者': '多摩職業能力開発センター', '定員数': '10名', '費用': '6,500円', '申込期日': '2025年1月10日'}\n",
      "5 {'id': 111975, 'category': '経済産業・社会,対面講座', 'date': '2025-03-02', 'title': 'ホームページビルダーによるホームページ作成', 'url': 'https://www.recurrent-navi.metro.tokyo.lg.jp/course/111975', 'summary': 'ホームページの基礎知識、Webサイトとトップページの作成および編集、リンクの設定、画像の作成と編集\\n【ホーページビルダー21】', '場所': '多摩・島しょ部,北多摩エリア,府中市', '主催者': '多摩職業能力開発センター府中校', '定員数': '25名', '費用': '6,500円', '申込期日': '2025年1月10日'}\n",
      "### FINISH (2025-10-26 22:41:59.221711 > duration = 0.00 sec) ###########\n"
     ]
    }
   ],
   "source": [
    "MyBanner.start()\n",
    "\n",
    "json_meta_list=[]\n",
    "json_content_list=[]\n",
    "\n",
    "# Iterate through each sheet\n",
    "for df in df_list:\n",
    "    json_meta_string =  json.loads(df[['id', 'category']].to_json(orient='records', force_ascii=False), parse_int=str)\n",
    "    json_doc_string = json.loads(df.to_json(orient='records', force_ascii=False))\n",
    "    json_meta_list.extend(json_meta_string)\n",
    "    json_content_list.extend(json_doc_string)\n",
    "\n",
    "print(f\"{len(json_meta_list)=}\")\n",
    "print(f\"{len(json_content_list)=}\")\n",
    "\n",
    "# Show data for inspection\n",
    "print(\"\\n* Meta-data (the first 5 rows):\")\n",
    "for index, item in enumerate(json_meta_list[0:5]):\n",
    "    print(index + 1, item)\n",
    "\n",
    "print(\"\\n* Vectorization data (the first 5 rows):\")\n",
    "for index, item in enumerate(json_content_list[0:5]):\n",
    "    print(index + 1, item)\n",
    "\n",
    "MyBanner.finish()"
   ]
  },
  {
   "cell_type": "markdown",
   "id": "9c4159b0",
   "metadata": {},
   "source": [
    "### 【処理】LangChain Doc変換\n",
    "ベクトルデータベースの登録向けにメタ情報とセル情報をLangChain Document形式に変換します。\n",
    "- DocumentのListをjson_meta_listとjson_doc_listから作成します\n",
    "- 1要素のDocumentでmetadataは、json_meta_listの一行分のjsonで構成します\n",
    "- 1要素のDocumentでpage_contentはjson_doc_listの一行分のjsonで構成します"
   ]
  },
  {
   "cell_type": "code",
   "execution_count": 9,
   "id": "3e439e98",
   "metadata": {},
   "outputs": [
    {
     "name": "stdout",
     "output_type": "stream",
     "text": [
      "### START (2025-10-26 22:41:59.228114) ###########\n",
      "len(docs)=29\n",
      "doc=Document(metadata={'id': '138389', 'category': '工学,対面講座'}, page_content='{\"id\": 138389, \"category\": \"工学,対面講座\", \"date\": \"2025-02-15\", \"title\": \"2級管工事施工管理技士(一次・二次)受験対策\", \"url\": \"https://www.recurrent-navi.metro.tokyo.lg.jp/course/138389\", \"summary\": \"２級管工事施工管理技士受験対策\\\\n(1)一般基礎、空調設備、衛生設備、施工管理\\\\n(2)施工管理記述、空調設備記述、衛生設備記述、施工体験\", \"場所\": \"多摩・島しょ部,北多摩エリア,昭島市\", \"主催者\": \"多摩職業能力開発センター\", \"定員数\": \"20名\", \"費用\": \"3,200円\", \"申込期日\": \"2025年1月10日\"}')\n",
      "\n",
      "doc=Document(metadata={'id': '137784', 'category': '工学,対面講座'}, page_content='{\"id\": 137784, \"category\": \"工学,対面講座\", \"date\": \"2025-03-09\", \"title\": \"第三種電気主任技術者科目合格対策(法規)\", \"url\": \"https://www.recurrent-navi.metro.tokyo.lg.jp/course/137784\", \"summary\": \"第三種電気主任技術者試験(法規)受験対策\\\\n電気事業法、電気設備技術基準、電気施設管理\", \"場所\": \"多摩・島しょ部,昭島市\", \"主催者\": \"多摩職業能力開発センター八王子校\", \"定員数\": \"40名\", \"費用\": \"1,600円\", \"申込期日\": \"2025年1月10日\"}')\n",
      "\n",
      "### FINISH (2025-10-26 22:41:59.228838 > duration = 0.00 sec) ###########\n"
     ]
    }
   ],
   "source": [
    "MyBanner.start()\n",
    "\n",
    "docs = []\n",
    "for content_str, meta_str in zip(json_content_list, json_meta_list):\n",
    "    docs.append(Document(metadata=meta_str, page_content=json.dumps(content_str, ensure_ascii=False))) \n",
    "\n",
    "# Show data for inspection (the first 2 rows)\n",
    "print(f\"{len(docs)=}\")\n",
    "[(print(f\"{doc=}\\n\")) for doc in docs[0:2]]\n",
    "\n",
    "MyBanner.finish()"
   ]
  },
  {
   "cell_type": "markdown",
   "id": "c25c66f1-1560-4fa2-b900-bba6e57fdf3e",
   "metadata": {},
   "source": [
    "## 3. Vector DB登録"
   ]
  },
  {
   "cell_type": "markdown",
   "id": "8463f86a-e770-4492-ab38-f2e84b6a45ab",
   "metadata": {},
   "source": [
    "### 【定義】Embedding Class\n",
    "Embedding ModelをHugging Faceから取得して、メモリに読み込んで管理するためのクラスを定義してクラスファイルに書き出します。"
   ]
  },
  {
   "cell_type": "code",
   "execution_count": 10,
   "id": "d67d59f3-1456-4bf4-8151-e302b85706de",
   "metadata": {},
   "outputs": [
    {
     "name": "stdout",
     "output_type": "stream",
     "text": [
      "Overwriting mylib/MyEmbedding.py\n"
     ]
    }
   ],
   "source": [
    "%%writefile mylib/MyEmbedding.py\n",
    "from langchain_huggingface import HuggingFaceEmbeddings\n",
    "\n",
    "class MyEmbedding:\n",
    "    @staticmethod\n",
    "    def get_model(model_name = \"intfloat/multilingual-e5-large\"):\n",
    "        model = HuggingFaceEmbeddings(model_name = model_name)\n",
    "        return model"
   ]
  },
  {
   "cell_type": "code",
   "execution_count": 11,
   "id": "1c94f230-d6bd-4385-9728-414e34762b06",
   "metadata": {},
   "outputs": [
    {
     "name": "stdout",
     "output_type": "stream",
     "text": [
      "### START (2025-10-26 22:41:59.240510) ###########\n",
      "embeddings=HuggingFaceEmbeddings(model_name='intfloat/multilingual-e5-large', cache_folder=None, model_kwargs={}, encode_kwargs={}, query_encode_kwargs={}, multi_process=False, show_progress=False)\n",
      "### FINISH (2025-10-26 22:42:11.204919 > duration = 11.96 sec) ###########\n"
     ]
    }
   ],
   "source": [
    "MyBanner.start()\n",
    "from mylib.MyEmbedding import MyEmbedding\n",
    "\n",
    "embeddings = MyEmbedding.get_model()\n",
    "print(f\"{embeddings=}\")\n",
    "\n",
    "MyBanner.finish()"
   ]
  },
  {
   "cell_type": "markdown",
   "id": "a1604173-9325-41f4-8df9-c7d0792c4fb0",
   "metadata": {},
   "source": [
    "### 【定義】MyCustomRetriever Class\n",
    "類似スコア検索を実現するための独自処理を実装したRetrieverを定義してクラスファイルに書き出します。"
   ]
  },
  {
   "cell_type": "code",
   "execution_count": 12,
   "id": "06883bc5-9d97-48df-a4d5-69e884c2ec08",
   "metadata": {},
   "outputs": [
    {
     "name": "stdout",
     "output_type": "stream",
     "text": [
      "Overwriting mylib/MyCustomRetriever.py\n"
     ]
    }
   ],
   "source": [
    "%%writefile mylib/MyCustomRetriever.py\n",
    "from langchain_core.vectorstores import VectorStoreRetriever\n",
    "from langchain_core.callbacks.manager import (CallbackManagerForRetrieverRun)\n",
    "from typing import List\n",
    "from langchain_core.documents import Document\n",
    "\n",
    "class MyCustomRetriever(VectorStoreRetriever):\n",
    "    def _get_relevant_documents(\n",
    "        self, query: str, *,\n",
    "        run_manager: CallbackManagerForRetrieverRun) -> List[Document]:\n",
    "        top_k = self.search_kwargs.get(\"k\", 4)\n",
    "        docs_and_similarities = self.vectorstore.similarity_search_with_score(query, k=top_k)      \n",
    "        threshold = self.search_kwargs.get(\"score_threshold\", 0)\n",
    "        return [doc for doc, score in docs_and_similarities if score >= threshold and score <= 1]\n",
    "    "
   ]
  },
  {
   "cell_type": "markdown",
   "id": "af8b9eb9-dace-47d6-979d-e2d8a5b2ab1a",
   "metadata": {},
   "source": [
    "### 【定義】MyMilvus Class\n",
    "ベクトルデータベースとして使う「Milvus」を管理するためのクラスを定義してクラスファイルに書き出します。"
   ]
  },
  {
   "cell_type": "code",
   "execution_count": 13,
   "id": "6c6bc78e-2cf1-4a15-b131-0584bc8b47e0",
   "metadata": {},
   "outputs": [
    {
     "name": "stdout",
     "output_type": "stream",
     "text": [
      "Overwriting mylib/MyMilvus.py\n"
     ]
    }
   ],
   "source": [
    "%%writefile mylib/MyMilvus.py\n",
    "from langchain_milvus import Milvus\n",
    "from pymilvus import MilvusClient\n",
    "from mylib.MyCustomRetriever import MyCustomRetriever\n",
    "\n",
    "class MyMilvus:\n",
    "\n",
    "    def __init__(self, host, port, user, password, embeddings):\n",
    "        self.connection_args = self.__get_connect_args(\n",
    "            host, port, user, password)\n",
    "        self.embeddings = embeddings\n",
    "        db_name = \"default\"\n",
    "        self.client = MilvusClient(\n",
    "            uri = \"http://%s:%d\" % (host, port),\n",
    "            token = \"%s:%s\" % (user, password),\n",
    "            db_name = db_name)\n",
    "\n",
    "    def get_connection_args(self):\n",
    "        return self.connection_args\n",
    "\n",
    "    def get_collections(self):\n",
    "        collections = self.client.list_collections()\n",
    "        return collections\n",
    "\n",
    "    # connect to the collection\n",
    "    def connect(self, collection_name):\n",
    "        collection = Milvus(\n",
    "            self.embeddings,\n",
    "            connection_args = self.connection_args,\n",
    "            collection_name = collection_name\n",
    "        )\n",
    "        return collection\n",
    "\n",
    "    def from_documents(self, docs, collection_name):\n",
    "        index_params = self.__get_index_params()\n",
    "        collection = Milvus.from_documents(\n",
    "            docs,\n",
    "            self.embeddings,\n",
    "            connection_args = self.connection_args,\n",
    "            collection_name = collection_name,\n",
    "            index_params = index_params,\n",
    "            drop_old = True, # If adding data, you should set False here.\n",
    "        )\n",
    "        return collection\n",
    "    \n",
    "    def get_retriever(self, collection, k = None, score = None):\n",
    "        if (k is None):\n",
    "            retriever = collection.as_retriever()\n",
    "        else:\n",
    "            if (score is None):\n",
    "                retriever = collection.as_retriever(search_kwargs={\"k\": k})\n",
    "            else:\n",
    "#                retriever = collection.as_retriever(\n",
    "#                    search_type=\"similarity_score_threshold\",\n",
    "#                    search_kwargs={\"k\": k, \"score_threshold\": score})\n",
    "                retriever = MyCustomRetriever(\n",
    "                    vectorstore = collection,\n",
    "                    search_kwargs={\"k\": k, \"score_threshold\": score})\n",
    "        return retriever\n",
    "\n",
    "    def __get_connect_args(self, host, port, user, password):\n",
    "        args ={\n",
    "            'uri': \"http://%s:%d\" % (host, port),\n",
    "            'token': \"%s:%s\" % (user, password)\n",
    "        }\n",
    "        return args\n",
    "\n",
    "    def __get_index_params(self):\n",
    "        params = {\n",
    "            \"metric_type\": \"COSINE\", # Cosine Similarity\n",
    "            \"index_type\": \"HNSW\", \n",
    "            \"params\": { \"M\": 16, \"efConstruction\": 200, \"efSearch\": 16}\n",
    "        }\n",
    "        return params\n"
   ]
  },
  {
   "cell_type": "markdown",
   "id": "5bc0375d-3e2f-4f45-9ea4-cd29b6fdf638",
   "metadata": {},
   "source": [
    "### 【処理】EmbeddingとVDB挿入\n",
    "エンベディングしながらベクトルデータベースにデータを登録します。"
   ]
  },
  {
   "cell_type": "code",
   "execution_count": null,
   "id": "2d26cd7e-32e4-48bb-8939-171c0ab246e7",
   "metadata": {},
   "outputs": [
    {
     "name": "stdout",
     "output_type": "stream",
     "text": [
      "### START (2025-10-26 22:42:14.816639) ###########\n",
      "vector_db=<mylib.MyMilvus.MyMilvus object at 0x737c48f64a70>\n"
     ]
    }
   ],
   "source": [
    "MyBanner.start()\n",
    "\n",
    "from mylib.MyMilvus import MyMilvus\n",
    "\n",
    "vector_db = MyMilvus(\\\n",
    "    myconstant.VDB_HOST, myconstant.VDB_PORT,\\\n",
    "    myconstant.VDB_USER, myconstant.VDB_PASS, embeddings)\n",
    "print(f\"{vector_db=}\")\n",
    "\n",
    "# Insert into Vector DB while embedding immediately after connecting to it\n",
    "docstore = vector_db.from_documents(docs, collection_name)\n",
    "print(f\"{len(docs)=}\")\n",
    "print(f\"{collection_name=}\")\n",
    "print(f\"{docstore=}\")\n",
    "\n",
    "MyBanner.finish()"
   ]
  },
  {
   "cell_type": "markdown",
   "id": "3741e3cf-a031-4aa1-bc61-e8617654c125",
   "metadata": {},
   "source": [
    "## 4. Vector DB登録データ確認"
   ]
  },
  {
   "cell_type": "markdown",
   "id": "c58d560b-09b1-4e32-8dd8-74722cba643e",
   "metadata": {},
   "source": [
    "### 確認方法1: Python言語\n",
    "ベクトルデータベースに登録されたデータをPythonのソースコードで確認します。"
   ]
  },
  {
   "cell_type": "code",
   "execution_count": null,
   "id": "eee5b66c-1a0f-4446-89e7-d9e997895766",
   "metadata": {},
   "outputs": [],
   "source": [
    "MyBanner.start()\n",
    "\n",
    "from pymilvus import MilvusClient\n",
    "import pandas as pd\n",
    "\n",
    "pk_list = docstore.get_pks(expr = \"pk > 0\")\n",
    "connection_args = vector_db.get_connection_args()\n",
    "client = MilvusClient(uri = connection_args['uri'], token = connection_args['token'])\n",
    "res = client.get(\n",
    "    collection_name = collection_name,\n",
    "    ids=pk_list\n",
    ")\n",
    "\n",
    "for i, doc_rec in enumerate(res):\n",
    "    res[i]['vector'] = \"[\"+\", \".join(map(str, doc_rec['vector']))+\"]\"\n",
    "    res[i]['pk'] = str(doc_rec['pk'])\n",
    "\n",
    "df_s = pd.DataFrame.from_dict(res).reindex(columns = ['id', 'category', 'text', 'pk', 'vector'])\n",
    "display(df_s)\n",
    "\n",
    "MyBanner.finish()"
   ]
  },
  {
   "cell_type": "markdown",
   "id": "36fa8f1a-056c-4e9f-9d36-b9c959bd3b84",
   "metadata": {},
   "source": [
    "### 確認方法2: Attu(Web UI)\n",
    "ベクトルデータベースに登録されたデータをWeb UIのAttuを使って確認します。"
   ]
  },
  {
   "cell_type": "markdown",
   "id": "404b84ae-e9bc-47a3-869c-58ac2752df8a",
   "metadata": {},
   "source": [
    "MilvusのWeb UI管理ツールの「Attu」をコンテナ（コンテナ名：milvus-attu）で起動しているので、ツールにアクセスして実際にベクトル化して登録されたデータを目視して確認します。\n",
    "- URL: http://localhost:8000/\n",
    "\n",
    "主要な画面のキャプチャーと概要説明\n",
    "| ![ログイン](./../image/attu-login.png) | ![データベース](./../image/attu-dbs.png) |\n",
    "|:---:|:---:|\n",
    "| 図1. ログイン | 図2. データベース一覧 |\n",
    "| ![コレクション](./../image/attu-collections.png) | ![レコード](./../image/attu-records.png) |\n",
    "| 図3. コレクション一覧 | 図4. コレクション詳細 |\n",
    "\n",
    "- 図1. ログイン\n",
    "\t- アクセスすると画面にMilvus-Address、Milvus Databaseなどがデフォルトで入力されています\n",
    "\t- 値は変更せず、全てデフォルトのままでConnectボタンを押下してデータベース一覧へ遷移して利用を開始します\n",
    "- 図2. データベース一覧\n",
    "\t- Milvusに登録されているデータベースが一覧表示されています\n",
    "\t- 本ステップではdefaultデータベースのコレクションにデータを登録しているので、データベース一覧より該当のデータベースを押下してコレクション一覧に遷移します\n",
    "- 図3. コレクション一覧\n",
    "\t- defaultデータベースに登録されているコレクションが一覧表示されています\n",
    "\t- 本ステップではrecurrent_navi_tyoコレクションにデータを登録しているので、コレクション一覧より該当のコレクションを押下してコレクション詳細に遷移します\n",
    "- 図4. コレクション詳細\n",
    "\t- SchemaからPropertiesまで7つのタブで構成されています\n",
    "\t- Dataタブを押下すると、本ステップで実際に登録したデータのベクトル値を含めた登録状態を目視できます"
   ]
  },
  {
   "cell_type": "markdown",
   "id": "050f60fb-88f9-4e54-9867-955173afe046",
   "metadata": {},
   "source": [
    "## 5. 本ステップを終えて"
   ]
  },
  {
   "cell_type": "markdown",
   "id": "a273a1c2-90b9-43d9-bca7-f5b972d9d423",
   "metadata": {},
   "source": [
    "ここまでの手順で構造化データをベクトルデータベースに登録する過程を経験しました。次のステップではベクトルデータベースに登録されているデータで類似検索の実行を経験します。\n",
    "- 次のStep ≫ [Step 2: Vector DBで類似検索](./rag-step02-search_from_vectordb.ipynb)\n",
    "- 今のStep ≫ Step 1: 構造化データのVector DB登録"
   ]
  }
 ],
 "metadata": {
  "kernelspec": {
   "display_name": "Python 3 (ipykernel)",
   "language": "python",
   "name": "python3"
  },
  "language_info": {
   "codemirror_mode": {
    "name": "ipython",
    "version": 3
   },
   "file_extension": ".py",
   "mimetype": "text/x-python",
   "name": "python",
   "nbconvert_exporter": "python",
   "pygments_lexer": "ipython3",
   "version": "3.12.3"
  }
 },
 "nbformat": 4,
 "nbformat_minor": 5
}
